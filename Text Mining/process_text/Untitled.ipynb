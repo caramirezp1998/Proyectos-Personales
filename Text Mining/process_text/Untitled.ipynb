{
 "cells": [
  {
   "cell_type": "code",
   "execution_count": 1,
   "metadata": {},
   "outputs": [
    {
     "name": "stdout",
     "output_type": "stream",
     "text": [
      "Requirement already satisfied: plotly in c:\\users\\usuario\\documents\\anaconda3\\lib\\site-packages (4.6.0)\n",
      "Requirement already satisfied: retrying>=1.3.3 in c:\\users\\usuario\\documents\\anaconda3\\lib\\site-packages (from plotly) (1.3.3)\n",
      "Requirement already satisfied: six in c:\\users\\usuario\\documents\\anaconda3\\lib\\site-packages (from plotly) (1.12.0)\n"
     ]
    }
   ],
   "source": [
    "! pip install plotly"
   ]
  },
  {
   "cell_type": "code",
   "execution_count": 2,
   "metadata": {},
   "outputs": [],
   "source": [
    "import pandas as pd\n",
    "import numpy as np\n",
    "import plotly.graph_objs as go\n",
    "import os"
   ]
  },
  {
   "cell_type": "code",
   "execution_count": 3,
   "metadata": {},
   "outputs": [
    {
     "data": {
      "text/plain": [
       "['serie_historica_acumulados.csv']"
      ]
     },
     "execution_count": 3,
     "metadata": {},
     "output_type": "execute_result"
    }
   ],
   "source": [
    "os.listdir('C:\\\\Users\\\\usuario\\\\Desktop\\\\Universidad\\\\8vo Semestre (Intercambio)\\\\Ludwing')"
   ]
  },
  {
   "cell_type": "code",
   "execution_count": 4,
   "metadata": {},
   "outputs": [],
   "source": [
    "df=pd.read_csv('C:\\\\Users\\\\usuario\\\\Desktop\\\\Universidad\\\\8vo Semestre (Intercambio)\\\\Ludwing\\\\serie_historica_acumulados.csv', \n",
    "              encoding= 'unicode_escape')\n"
   ]
  },
  {
   "cell_type": "code",
   "execution_count": 5,
   "metadata": {},
   "outputs": [],
   "source": [
    "df=df.fillna(0)"
   ]
  },
  {
   "cell_type": "code",
   "execution_count": 6,
   "metadata": {},
   "outputs": [
    {
     "data": {
      "text/html": [
       "<div>\n",
       "<style scoped>\n",
       "    .dataframe tbody tr th:only-of-type {\n",
       "        vertical-align: middle;\n",
       "    }\n",
       "\n",
       "    .dataframe tbody tr th {\n",
       "        vertical-align: top;\n",
       "    }\n",
       "\n",
       "    .dataframe thead th {\n",
       "        text-align: right;\n",
       "    }\n",
       "</style>\n",
       "<table border=\"1\" class=\"dataframe\">\n",
       "  <thead>\n",
       "    <tr style=\"text-align: right;\">\n",
       "      <th></th>\n",
       "      <th>CCAA</th>\n",
       "      <th>FECHA</th>\n",
       "      <th>CASOS</th>\n",
       "      <th>PCR+</th>\n",
       "      <th>TestAc+</th>\n",
       "      <th>Hospitalizados</th>\n",
       "      <th>UCI</th>\n",
       "      <th>Fallecidos</th>\n",
       "      <th>Recuperados</th>\n",
       "    </tr>\n",
       "  </thead>\n",
       "  <tbody>\n",
       "    <tr>\n",
       "      <th>0</th>\n",
       "      <td>AN</td>\n",
       "      <td>20/2/2020</td>\n",
       "      <td>0.0</td>\n",
       "      <td>0.0</td>\n",
       "      <td>0.0</td>\n",
       "      <td>0.0</td>\n",
       "      <td>0.0</td>\n",
       "      <td>0.0</td>\n",
       "      <td>0.0</td>\n",
       "    </tr>\n",
       "    <tr>\n",
       "      <th>1</th>\n",
       "      <td>AR</td>\n",
       "      <td>20/2/2020</td>\n",
       "      <td>0.0</td>\n",
       "      <td>0.0</td>\n",
       "      <td>0.0</td>\n",
       "      <td>0.0</td>\n",
       "      <td>0.0</td>\n",
       "      <td>0.0</td>\n",
       "      <td>0.0</td>\n",
       "    </tr>\n",
       "    <tr>\n",
       "      <th>2</th>\n",
       "      <td>AS</td>\n",
       "      <td>20/2/2020</td>\n",
       "      <td>0.0</td>\n",
       "      <td>0.0</td>\n",
       "      <td>0.0</td>\n",
       "      <td>0.0</td>\n",
       "      <td>0.0</td>\n",
       "      <td>0.0</td>\n",
       "      <td>0.0</td>\n",
       "    </tr>\n",
       "    <tr>\n",
       "      <th>3</th>\n",
       "      <td>IB</td>\n",
       "      <td>20/2/2020</td>\n",
       "      <td>1.0</td>\n",
       "      <td>0.0</td>\n",
       "      <td>0.0</td>\n",
       "      <td>0.0</td>\n",
       "      <td>0.0</td>\n",
       "      <td>0.0</td>\n",
       "      <td>0.0</td>\n",
       "    </tr>\n",
       "    <tr>\n",
       "      <th>4</th>\n",
       "      <td>CN</td>\n",
       "      <td>20/2/2020</td>\n",
       "      <td>1.0</td>\n",
       "      <td>0.0</td>\n",
       "      <td>0.0</td>\n",
       "      <td>0.0</td>\n",
       "      <td>0.0</td>\n",
       "      <td>0.0</td>\n",
       "      <td>0.0</td>\n",
       "    </tr>\n",
       "  </tbody>\n",
       "</table>\n",
       "</div>"
      ],
      "text/plain": [
       "  CCAA      FECHA  CASOS  PCR+  TestAc+  Hospitalizados  UCI  Fallecidos  \\\n",
       "0   AN  20/2/2020    0.0   0.0      0.0             0.0  0.0         0.0   \n",
       "1   AR  20/2/2020    0.0   0.0      0.0             0.0  0.0         0.0   \n",
       "2   AS  20/2/2020    0.0   0.0      0.0             0.0  0.0         0.0   \n",
       "3   IB  20/2/2020    1.0   0.0      0.0             0.0  0.0         0.0   \n",
       "4   CN  20/2/2020    1.0   0.0      0.0             0.0  0.0         0.0   \n",
       "\n",
       "   Recuperados  \n",
       "0          0.0  \n",
       "1          0.0  \n",
       "2          0.0  \n",
       "3          0.0  \n",
       "4          0.0  "
      ]
     },
     "execution_count": 6,
     "metadata": {},
     "output_type": "execute_result"
    }
   ],
   "source": [
    "df.head()"
   ]
  },
  {
   "cell_type": "code",
   "execution_count": 7,
   "metadata": {},
   "outputs": [
    {
     "data": {
      "text/html": [
       "<div>\n",
       "<style scoped>\n",
       "    .dataframe tbody tr th:only-of-type {\n",
       "        vertical-align: middle;\n",
       "    }\n",
       "\n",
       "    .dataframe tbody tr th {\n",
       "        vertical-align: top;\n",
       "    }\n",
       "\n",
       "    .dataframe thead th {\n",
       "        text-align: right;\n",
       "    }\n",
       "</style>\n",
       "<table border=\"1\" class=\"dataframe\">\n",
       "  <thead>\n",
       "    <tr style=\"text-align: right;\">\n",
       "      <th></th>\n",
       "      <th>CCAA</th>\n",
       "      <th>FECHA</th>\n",
       "      <th>CASOS</th>\n",
       "      <th>PCR+</th>\n",
       "      <th>TestAc+</th>\n",
       "      <th>Hospitalizados</th>\n",
       "      <th>UCI</th>\n",
       "      <th>Fallecidos</th>\n",
       "      <th>Recuperados</th>\n",
       "    </tr>\n",
       "  </thead>\n",
       "  <tbody>\n",
       "    <tr>\n",
       "      <th>1235</th>\n",
       "      <td>NOTA: El objetivo de los datos que se publican...</td>\n",
       "      <td>0</td>\n",
       "      <td>0.0</td>\n",
       "      <td>0.0</td>\n",
       "      <td>0.0</td>\n",
       "      <td>0.0</td>\n",
       "      <td>0.0</td>\n",
       "      <td>0.0</td>\n",
       "      <td>0.0</td>\n",
       "    </tr>\n",
       "    <tr>\n",
       "      <th>1236</th>\n",
       "      <td>Los datos de estas comunidades son datos de pr...</td>\n",
       "      <td>0</td>\n",
       "      <td>0.0</td>\n",
       "      <td>0.0</td>\n",
       "      <td>0.0</td>\n",
       "      <td>0.0</td>\n",
       "      <td>0.0</td>\n",
       "      <td>0.0</td>\n",
       "      <td>0.0</td>\n",
       "    </tr>\n",
       "    <tr>\n",
       "      <th>1237</th>\n",
       "      <td>* Desde el día 11/04/2020 las cifras de hospit...</td>\n",
       "      <td>0</td>\n",
       "      <td>0.0</td>\n",
       "      <td>0.0</td>\n",
       "      <td>0.0</td>\n",
       "      <td>0.0</td>\n",
       "      <td>0.0</td>\n",
       "      <td>0.0</td>\n",
       "      <td>0.0</td>\n",
       "    </tr>\n",
       "    <tr>\n",
       "      <th>1238</th>\n",
       "      <td>* Desde el día 12/04/2020 las cifras de UCIs d...</td>\n",
       "      <td>0</td>\n",
       "      <td>0.0</td>\n",
       "      <td>0.0</td>\n",
       "      <td>0.0</td>\n",
       "      <td>0.0</td>\n",
       "      <td>0.0</td>\n",
       "      <td>0.0</td>\n",
       "      <td>0.0</td>\n",
       "    </tr>\n",
       "    <tr>\n",
       "      <th>1239</th>\n",
       "      <td>NOTA2:Se excluyen de la serie las notificacion...</td>\n",
       "      <td>0</td>\n",
       "      <td>0.0</td>\n",
       "      <td>0.0</td>\n",
       "      <td>0.0</td>\n",
       "      <td>0.0</td>\n",
       "      <td>0.0</td>\n",
       "      <td>0.0</td>\n",
       "      <td>0.0</td>\n",
       "    </tr>\n",
       "  </tbody>\n",
       "</table>\n",
       "</div>"
      ],
      "text/plain": [
       "                                                   CCAA FECHA  CASOS  PCR+  \\\n",
       "1235  NOTA: El objetivo de los datos que se publican...     0    0.0   0.0   \n",
       "1236  Los datos de estas comunidades son datos de pr...     0    0.0   0.0   \n",
       "1237  * Desde el día 11/04/2020 las cifras de hospit...     0    0.0   0.0   \n",
       "1238  * Desde el día 12/04/2020 las cifras de UCIs d...     0    0.0   0.0   \n",
       "1239  NOTA2:Se excluyen de la serie las notificacion...     0    0.0   0.0   \n",
       "\n",
       "      TestAc+  Hospitalizados  UCI  Fallecidos  Recuperados  \n",
       "1235      0.0             0.0  0.0         0.0          0.0  \n",
       "1236      0.0             0.0  0.0         0.0          0.0  \n",
       "1237      0.0             0.0  0.0         0.0          0.0  \n",
       "1238      0.0             0.0  0.0         0.0          0.0  \n",
       "1239      0.0             0.0  0.0         0.0          0.0  "
      ]
     },
     "execution_count": 7,
     "metadata": {},
     "output_type": "execute_result"
    }
   ],
   "source": [
    "df.tail()"
   ]
  },
  {
   "cell_type": "code",
   "execution_count": 8,
   "metadata": {},
   "outputs": [],
   "source": [
    "df2=df.loc[0:1234,:]"
   ]
  },
  {
   "cell_type": "code",
   "execution_count": 9,
   "metadata": {},
   "outputs": [
    {
     "data": {
      "text/html": [
       "<div>\n",
       "<style scoped>\n",
       "    .dataframe tbody tr th:only-of-type {\n",
       "        vertical-align: middle;\n",
       "    }\n",
       "\n",
       "    .dataframe tbody tr th {\n",
       "        vertical-align: top;\n",
       "    }\n",
       "\n",
       "    .dataframe thead th {\n",
       "        text-align: right;\n",
       "    }\n",
       "</style>\n",
       "<table border=\"1\" class=\"dataframe\">\n",
       "  <thead>\n",
       "    <tr style=\"text-align: right;\">\n",
       "      <th></th>\n",
       "      <th>CCAA</th>\n",
       "      <th>FECHA</th>\n",
       "      <th>CASOS</th>\n",
       "      <th>PCR+</th>\n",
       "      <th>TestAc+</th>\n",
       "      <th>Hospitalizados</th>\n",
       "      <th>UCI</th>\n",
       "      <th>Fallecidos</th>\n",
       "      <th>Recuperados</th>\n",
       "    </tr>\n",
       "  </thead>\n",
       "  <tbody>\n",
       "    <tr>\n",
       "      <th>1230</th>\n",
       "      <td>ML</td>\n",
       "      <td>24/4/2020</td>\n",
       "      <td>0.0</td>\n",
       "      <td>108.0</td>\n",
       "      <td>10.0</td>\n",
       "      <td>44.0</td>\n",
       "      <td>3.0</td>\n",
       "      <td>2.0</td>\n",
       "      <td>77.0</td>\n",
       "    </tr>\n",
       "    <tr>\n",
       "      <th>1231</th>\n",
       "      <td>MC</td>\n",
       "      <td>24/4/2020</td>\n",
       "      <td>0.0</td>\n",
       "      <td>1468.0</td>\n",
       "      <td>288.0</td>\n",
       "      <td>625.0</td>\n",
       "      <td>105.0</td>\n",
       "      <td>126.0</td>\n",
       "      <td>842.0</td>\n",
       "    </tr>\n",
       "    <tr>\n",
       "      <th>1232</th>\n",
       "      <td>NC</td>\n",
       "      <td>24/4/2020</td>\n",
       "      <td>0.0</td>\n",
       "      <td>4627.0</td>\n",
       "      <td>647.0</td>\n",
       "      <td>1937.0</td>\n",
       "      <td>129.0</td>\n",
       "      <td>429.0</td>\n",
       "      <td>1737.0</td>\n",
       "    </tr>\n",
       "    <tr>\n",
       "      <th>1233</th>\n",
       "      <td>PV</td>\n",
       "      <td>24/4/2020</td>\n",
       "      <td>0.0</td>\n",
       "      <td>12366.0</td>\n",
       "      <td>1766.0</td>\n",
       "      <td>6375.0</td>\n",
       "      <td>525.0</td>\n",
       "      <td>1212.0</td>\n",
       "      <td>8941.0</td>\n",
       "    </tr>\n",
       "    <tr>\n",
       "      <th>1234</th>\n",
       "      <td>RI</td>\n",
       "      <td>24/4/2020</td>\n",
       "      <td>0.0</td>\n",
       "      <td>3821.0</td>\n",
       "      <td>1125.0</td>\n",
       "      <td>1360.0</td>\n",
       "      <td>83.0</td>\n",
       "      <td>311.0</td>\n",
       "      <td>1999.0</td>\n",
       "    </tr>\n",
       "  </tbody>\n",
       "</table>\n",
       "</div>"
      ],
      "text/plain": [
       "     CCAA      FECHA  CASOS     PCR+  TestAc+  Hospitalizados    UCI  \\\n",
       "1230   ML  24/4/2020    0.0    108.0     10.0            44.0    3.0   \n",
       "1231   MC  24/4/2020    0.0   1468.0    288.0           625.0  105.0   \n",
       "1232   NC  24/4/2020    0.0   4627.0    647.0          1937.0  129.0   \n",
       "1233   PV  24/4/2020    0.0  12366.0   1766.0          6375.0  525.0   \n",
       "1234   RI  24/4/2020    0.0   3821.0   1125.0          1360.0   83.0   \n",
       "\n",
       "      Fallecidos  Recuperados  \n",
       "1230         2.0         77.0  \n",
       "1231       126.0        842.0  \n",
       "1232       429.0       1737.0  \n",
       "1233      1212.0       8941.0  \n",
       "1234       311.0       1999.0  "
      ]
     },
     "execution_count": 9,
     "metadata": {},
     "output_type": "execute_result"
    }
   ],
   "source": [
    "df2.tail()"
   ]
  },
  {
   "cell_type": "code",
   "execution_count": 10,
   "metadata": {},
   "outputs": [],
   "source": [
    "regiones=list(df2.CCAA.unique())"
   ]
  },
  {
   "cell_type": "code",
   "execution_count": 32,
   "metadata": {},
   "outputs": [
    {
     "name": "stderr",
     "output_type": "stream",
     "text": [
      "C:\\Users\\usuario\\Documents\\Anaconda3\\lib\\site-packages\\pandas\\core\\indexing.py:543: SettingWithCopyWarning:\n",
      "\n",
      "\n",
      "A value is trying to be set on a copy of a slice from a DataFrame.\n",
      "Try using .loc[row_indexer,col_indexer] = value instead\n",
      "\n",
      "See the caveats in the documentation: http://pandas.pydata.org/pandas-docs/stable/indexing.html#indexing-view-versus-copy\n",
      "\n",
      "C:\\Users\\usuario\\Documents\\Anaconda3\\lib\\site-packages\\pandas\\core\\frame.py:4042: SettingWithCopyWarning:\n",
      "\n",
      "\n",
      "A value is trying to be set on a copy of a slice from a DataFrame\n",
      "\n",
      "See the caveats in the documentation: http://pandas.pydata.org/pandas-docs/stable/indexing.html#indexing-view-versus-copy\n",
      "\n"
     ]
    }
   ],
   "source": [
    "df2.loc[:,\"FECHA\"]=pd.to_datetime(df2.loc[:,\"FECHA\"], format=\"%d/%m/%Y\")\n",
    "df2.replace(0, np.nan, inplace=True)"
   ]
  },
  {
   "cell_type": "code",
   "execution_count": 33,
   "metadata": {},
   "outputs": [],
   "source": [
    "df_regiones={}\n",
    "for region in regiones:\n",
    "    df_regiones[region]=df2.loc[df2[\"CCAA\"]==region,:]"
   ]
  },
  {
   "cell_type": "code",
   "execution_count": 34,
   "metadata": {},
   "outputs": [
    {
     "data": {
      "text/html": [
       "<div>\n",
       "<style scoped>\n",
       "    .dataframe tbody tr th:only-of-type {\n",
       "        vertical-align: middle;\n",
       "    }\n",
       "\n",
       "    .dataframe tbody tr th {\n",
       "        vertical-align: top;\n",
       "    }\n",
       "\n",
       "    .dataframe thead th {\n",
       "        text-align: right;\n",
       "    }\n",
       "</style>\n",
       "<table border=\"1\" class=\"dataframe\">\n",
       "  <thead>\n",
       "    <tr style=\"text-align: right;\">\n",
       "      <th></th>\n",
       "      <th>CCAA</th>\n",
       "      <th>FECHA</th>\n",
       "      <th>CASOS</th>\n",
       "      <th>PCR+</th>\n",
       "      <th>TestAc+</th>\n",
       "      <th>Hospitalizados</th>\n",
       "      <th>UCI</th>\n",
       "      <th>Fallecidos</th>\n",
       "      <th>Recuperados</th>\n",
       "    </tr>\n",
       "  </thead>\n",
       "  <tbody>\n",
       "    <tr>\n",
       "      <th>6</th>\n",
       "      <td>CM</td>\n",
       "      <td>2020-02-20</td>\n",
       "      <td>NaN</td>\n",
       "      <td>NaN</td>\n",
       "      <td>NaN</td>\n",
       "      <td>NaN</td>\n",
       "      <td>NaN</td>\n",
       "      <td>NaN</td>\n",
       "      <td>NaN</td>\n",
       "    </tr>\n",
       "    <tr>\n",
       "      <th>25</th>\n",
       "      <td>CM</td>\n",
       "      <td>2020-02-21</td>\n",
       "      <td>NaN</td>\n",
       "      <td>NaN</td>\n",
       "      <td>NaN</td>\n",
       "      <td>NaN</td>\n",
       "      <td>NaN</td>\n",
       "      <td>NaN</td>\n",
       "      <td>NaN</td>\n",
       "    </tr>\n",
       "    <tr>\n",
       "      <th>44</th>\n",
       "      <td>CM</td>\n",
       "      <td>2020-02-22</td>\n",
       "      <td>NaN</td>\n",
       "      <td>NaN</td>\n",
       "      <td>NaN</td>\n",
       "      <td>NaN</td>\n",
       "      <td>NaN</td>\n",
       "      <td>NaN</td>\n",
       "      <td>NaN</td>\n",
       "    </tr>\n",
       "    <tr>\n",
       "      <th>63</th>\n",
       "      <td>CM</td>\n",
       "      <td>2020-02-23</td>\n",
       "      <td>NaN</td>\n",
       "      <td>NaN</td>\n",
       "      <td>NaN</td>\n",
       "      <td>NaN</td>\n",
       "      <td>NaN</td>\n",
       "      <td>NaN</td>\n",
       "      <td>NaN</td>\n",
       "    </tr>\n",
       "    <tr>\n",
       "      <th>82</th>\n",
       "      <td>CM</td>\n",
       "      <td>2020-02-24</td>\n",
       "      <td>NaN</td>\n",
       "      <td>NaN</td>\n",
       "      <td>NaN</td>\n",
       "      <td>NaN</td>\n",
       "      <td>NaN</td>\n",
       "      <td>NaN</td>\n",
       "      <td>NaN</td>\n",
       "    </tr>\n",
       "    <tr>\n",
       "      <th>101</th>\n",
       "      <td>CM</td>\n",
       "      <td>2020-02-25</td>\n",
       "      <td>NaN</td>\n",
       "      <td>NaN</td>\n",
       "      <td>NaN</td>\n",
       "      <td>NaN</td>\n",
       "      <td>NaN</td>\n",
       "      <td>NaN</td>\n",
       "      <td>NaN</td>\n",
       "    </tr>\n",
       "    <tr>\n",
       "      <th>120</th>\n",
       "      <td>CM</td>\n",
       "      <td>2020-02-26</td>\n",
       "      <td>NaN</td>\n",
       "      <td>NaN</td>\n",
       "      <td>NaN</td>\n",
       "      <td>NaN</td>\n",
       "      <td>NaN</td>\n",
       "      <td>NaN</td>\n",
       "      <td>NaN</td>\n",
       "    </tr>\n",
       "    <tr>\n",
       "      <th>139</th>\n",
       "      <td>CM</td>\n",
       "      <td>2020-02-27</td>\n",
       "      <td>NaN</td>\n",
       "      <td>NaN</td>\n",
       "      <td>NaN</td>\n",
       "      <td>NaN</td>\n",
       "      <td>NaN</td>\n",
       "      <td>NaN</td>\n",
       "      <td>NaN</td>\n",
       "    </tr>\n",
       "    <tr>\n",
       "      <th>158</th>\n",
       "      <td>CM</td>\n",
       "      <td>2020-02-28</td>\n",
       "      <td>NaN</td>\n",
       "      <td>NaN</td>\n",
       "      <td>NaN</td>\n",
       "      <td>NaN</td>\n",
       "      <td>NaN</td>\n",
       "      <td>NaN</td>\n",
       "      <td>NaN</td>\n",
       "    </tr>\n",
       "    <tr>\n",
       "      <th>177</th>\n",
       "      <td>CM</td>\n",
       "      <td>2020-02-29</td>\n",
       "      <td>1.0</td>\n",
       "      <td>NaN</td>\n",
       "      <td>NaN</td>\n",
       "      <td>NaN</td>\n",
       "      <td>NaN</td>\n",
       "      <td>NaN</td>\n",
       "      <td>NaN</td>\n",
       "    </tr>\n",
       "    <tr>\n",
       "      <th>196</th>\n",
       "      <td>CM</td>\n",
       "      <td>2020-03-01</td>\n",
       "      <td>3.0</td>\n",
       "      <td>NaN</td>\n",
       "      <td>NaN</td>\n",
       "      <td>NaN</td>\n",
       "      <td>NaN</td>\n",
       "      <td>NaN</td>\n",
       "      <td>NaN</td>\n",
       "    </tr>\n",
       "    <tr>\n",
       "      <th>215</th>\n",
       "      <td>CM</td>\n",
       "      <td>2020-03-02</td>\n",
       "      <td>7.0</td>\n",
       "      <td>NaN</td>\n",
       "      <td>NaN</td>\n",
       "      <td>NaN</td>\n",
       "      <td>NaN</td>\n",
       "      <td>NaN</td>\n",
       "      <td>NaN</td>\n",
       "    </tr>\n",
       "    <tr>\n",
       "      <th>234</th>\n",
       "      <td>CM</td>\n",
       "      <td>2020-03-03</td>\n",
       "      <td>12.0</td>\n",
       "      <td>NaN</td>\n",
       "      <td>NaN</td>\n",
       "      <td>NaN</td>\n",
       "      <td>NaN</td>\n",
       "      <td>NaN</td>\n",
       "      <td>NaN</td>\n",
       "    </tr>\n",
       "    <tr>\n",
       "      <th>253</th>\n",
       "      <td>CM</td>\n",
       "      <td>2020-03-04</td>\n",
       "      <td>13.0</td>\n",
       "      <td>NaN</td>\n",
       "      <td>NaN</td>\n",
       "      <td>NaN</td>\n",
       "      <td>NaN</td>\n",
       "      <td>NaN</td>\n",
       "      <td>NaN</td>\n",
       "    </tr>\n",
       "    <tr>\n",
       "      <th>272</th>\n",
       "      <td>CM</td>\n",
       "      <td>2020-03-05</td>\n",
       "      <td>15.0</td>\n",
       "      <td>NaN</td>\n",
       "      <td>NaN</td>\n",
       "      <td>NaN</td>\n",
       "      <td>NaN</td>\n",
       "      <td>NaN</td>\n",
       "      <td>NaN</td>\n",
       "    </tr>\n",
       "    <tr>\n",
       "      <th>291</th>\n",
       "      <td>CM</td>\n",
       "      <td>2020-03-06</td>\n",
       "      <td>15.0</td>\n",
       "      <td>NaN</td>\n",
       "      <td>NaN</td>\n",
       "      <td>NaN</td>\n",
       "      <td>NaN</td>\n",
       "      <td>NaN</td>\n",
       "      <td>NaN</td>\n",
       "    </tr>\n",
       "    <tr>\n",
       "      <th>310</th>\n",
       "      <td>CM</td>\n",
       "      <td>2020-03-07</td>\n",
       "      <td>15.0</td>\n",
       "      <td>NaN</td>\n",
       "      <td>NaN</td>\n",
       "      <td>NaN</td>\n",
       "      <td>NaN</td>\n",
       "      <td>NaN</td>\n",
       "      <td>NaN</td>\n",
       "    </tr>\n",
       "    <tr>\n",
       "      <th>329</th>\n",
       "      <td>CM</td>\n",
       "      <td>2020-03-08</td>\n",
       "      <td>26.0</td>\n",
       "      <td>NaN</td>\n",
       "      <td>NaN</td>\n",
       "      <td>NaN</td>\n",
       "      <td>2.0</td>\n",
       "      <td>NaN</td>\n",
       "      <td>2.0</td>\n",
       "    </tr>\n",
       "    <tr>\n",
       "      <th>348</th>\n",
       "      <td>CM</td>\n",
       "      <td>2020-03-09</td>\n",
       "      <td>39.0</td>\n",
       "      <td>NaN</td>\n",
       "      <td>NaN</td>\n",
       "      <td>NaN</td>\n",
       "      <td>3.0</td>\n",
       "      <td>NaN</td>\n",
       "      <td>2.0</td>\n",
       "    </tr>\n",
       "    <tr>\n",
       "      <th>367</th>\n",
       "      <td>CM</td>\n",
       "      <td>2020-03-10</td>\n",
       "      <td>71.0</td>\n",
       "      <td>NaN</td>\n",
       "      <td>NaN</td>\n",
       "      <td>NaN</td>\n",
       "      <td>5.0</td>\n",
       "      <td>NaN</td>\n",
       "      <td>2.0</td>\n",
       "    </tr>\n",
       "    <tr>\n",
       "      <th>386</th>\n",
       "      <td>CM</td>\n",
       "      <td>2020-03-11</td>\n",
       "      <td>115.0</td>\n",
       "      <td>NaN</td>\n",
       "      <td>NaN</td>\n",
       "      <td>39.0</td>\n",
       "      <td>9.0</td>\n",
       "      <td>1.0</td>\n",
       "      <td>2.0</td>\n",
       "    </tr>\n",
       "    <tr>\n",
       "      <th>405</th>\n",
       "      <td>CM</td>\n",
       "      <td>2020-03-12</td>\n",
       "      <td>194.0</td>\n",
       "      <td>NaN</td>\n",
       "      <td>NaN</td>\n",
       "      <td>78.0</td>\n",
       "      <td>10.0</td>\n",
       "      <td>5.0</td>\n",
       "      <td>1.0</td>\n",
       "    </tr>\n",
       "    <tr>\n",
       "      <th>424</th>\n",
       "      <td>CM</td>\n",
       "      <td>2020-03-13</td>\n",
       "      <td>289.0</td>\n",
       "      <td>NaN</td>\n",
       "      <td>NaN</td>\n",
       "      <td>78.0</td>\n",
       "      <td>10.0</td>\n",
       "      <td>6.0</td>\n",
       "      <td>5.0</td>\n",
       "    </tr>\n",
       "    <tr>\n",
       "      <th>443</th>\n",
       "      <td>CM</td>\n",
       "      <td>2020-03-14</td>\n",
       "      <td>401.0</td>\n",
       "      <td>NaN</td>\n",
       "      <td>NaN</td>\n",
       "      <td>78.0</td>\n",
       "      <td>10.0</td>\n",
       "      <td>10.0</td>\n",
       "      <td>5.0</td>\n",
       "    </tr>\n",
       "    <tr>\n",
       "      <th>462</th>\n",
       "      <td>CM</td>\n",
       "      <td>2020-03-15</td>\n",
       "      <td>567.0</td>\n",
       "      <td>NaN</td>\n",
       "      <td>NaN</td>\n",
       "      <td>207.0</td>\n",
       "      <td>23.0</td>\n",
       "      <td>17.0</td>\n",
       "      <td>12.0</td>\n",
       "    </tr>\n",
       "    <tr>\n",
       "      <th>481</th>\n",
       "      <td>CM</td>\n",
       "      <td>2020-03-16</td>\n",
       "      <td>567.0</td>\n",
       "      <td>NaN</td>\n",
       "      <td>NaN</td>\n",
       "      <td>207.0</td>\n",
       "      <td>23.0</td>\n",
       "      <td>17.0</td>\n",
       "      <td>12.0</td>\n",
       "    </tr>\n",
       "    <tr>\n",
       "      <th>500</th>\n",
       "      <td>CM</td>\n",
       "      <td>2020-03-17</td>\n",
       "      <td>675.0</td>\n",
       "      <td>NaN</td>\n",
       "      <td>NaN</td>\n",
       "      <td>277.0</td>\n",
       "      <td>29.0</td>\n",
       "      <td>28.0</td>\n",
       "      <td>15.0</td>\n",
       "    </tr>\n",
       "    <tr>\n",
       "      <th>519</th>\n",
       "      <td>CM</td>\n",
       "      <td>2020-03-18</td>\n",
       "      <td>801.0</td>\n",
       "      <td>NaN</td>\n",
       "      <td>NaN</td>\n",
       "      <td>313.0</td>\n",
       "      <td>37.0</td>\n",
       "      <td>42.0</td>\n",
       "      <td>27.0</td>\n",
       "    </tr>\n",
       "    <tr>\n",
       "      <th>538</th>\n",
       "      <td>CM</td>\n",
       "      <td>2020-03-19</td>\n",
       "      <td>1044.0</td>\n",
       "      <td>NaN</td>\n",
       "      <td>NaN</td>\n",
       "      <td>313.0</td>\n",
       "      <td>37.0</td>\n",
       "      <td>42.0</td>\n",
       "      <td>27.0</td>\n",
       "    </tr>\n",
       "    <tr>\n",
       "      <th>557</th>\n",
       "      <td>CM</td>\n",
       "      <td>2020-03-20</td>\n",
       "      <td>1423.0</td>\n",
       "      <td>NaN</td>\n",
       "      <td>NaN</td>\n",
       "      <td>635.0</td>\n",
       "      <td>65.0</td>\n",
       "      <td>84.0</td>\n",
       "      <td>38.0</td>\n",
       "    </tr>\n",
       "    <tr>\n",
       "      <th>...</th>\n",
       "      <td>...</td>\n",
       "      <td>...</td>\n",
       "      <td>...</td>\n",
       "      <td>...</td>\n",
       "      <td>...</td>\n",
       "      <td>...</td>\n",
       "      <td>...</td>\n",
       "      <td>...</td>\n",
       "      <td>...</td>\n",
       "    </tr>\n",
       "    <tr>\n",
       "      <th>671</th>\n",
       "      <td>CM</td>\n",
       "      <td>2020-03-26</td>\n",
       "      <td>3934.0</td>\n",
       "      <td>NaN</td>\n",
       "      <td>NaN</td>\n",
       "      <td>2707.0</td>\n",
       "      <td>273.0</td>\n",
       "      <td>367.0</td>\n",
       "      <td>153.0</td>\n",
       "    </tr>\n",
       "    <tr>\n",
       "      <th>690</th>\n",
       "      <td>CM</td>\n",
       "      <td>2020-03-27</td>\n",
       "      <td>4512.0</td>\n",
       "      <td>NaN</td>\n",
       "      <td>NaN</td>\n",
       "      <td>2977.0</td>\n",
       "      <td>289.0</td>\n",
       "      <td>448.0</td>\n",
       "      <td>197.0</td>\n",
       "    </tr>\n",
       "    <tr>\n",
       "      <th>709</th>\n",
       "      <td>CM</td>\n",
       "      <td>2020-03-28</td>\n",
       "      <td>5246.0</td>\n",
       "      <td>NaN</td>\n",
       "      <td>NaN</td>\n",
       "      <td>3018.0</td>\n",
       "      <td>299.0</td>\n",
       "      <td>539.0</td>\n",
       "      <td>236.0</td>\n",
       "    </tr>\n",
       "    <tr>\n",
       "      <th>728</th>\n",
       "      <td>CM</td>\n",
       "      <td>2020-03-29</td>\n",
       "      <td>5858.0</td>\n",
       "      <td>NaN</td>\n",
       "      <td>NaN</td>\n",
       "      <td>3134.0</td>\n",
       "      <td>302.0</td>\n",
       "      <td>622.0</td>\n",
       "      <td>252.0</td>\n",
       "    </tr>\n",
       "    <tr>\n",
       "      <th>747</th>\n",
       "      <td>CM</td>\n",
       "      <td>2020-03-30</td>\n",
       "      <td>6424.0</td>\n",
       "      <td>NaN</td>\n",
       "      <td>NaN</td>\n",
       "      <td>3225.0</td>\n",
       "      <td>344.0</td>\n",
       "      <td>708.0</td>\n",
       "      <td>296.0</td>\n",
       "    </tr>\n",
       "    <tr>\n",
       "      <th>766</th>\n",
       "      <td>CM</td>\n",
       "      <td>2020-03-31</td>\n",
       "      <td>7047.0</td>\n",
       "      <td>NaN</td>\n",
       "      <td>NaN</td>\n",
       "      <td>3230.0</td>\n",
       "      <td>353.0</td>\n",
       "      <td>774.0</td>\n",
       "      <td>397.0</td>\n",
       "    </tr>\n",
       "    <tr>\n",
       "      <th>785</th>\n",
       "      <td>CM</td>\n",
       "      <td>2020-04-01</td>\n",
       "      <td>7682.0</td>\n",
       "      <td>NaN</td>\n",
       "      <td>NaN</td>\n",
       "      <td>3230.0</td>\n",
       "      <td>355.0</td>\n",
       "      <td>854.0</td>\n",
       "      <td>494.0</td>\n",
       "    </tr>\n",
       "    <tr>\n",
       "      <th>804</th>\n",
       "      <td>CM</td>\n",
       "      <td>2020-04-02</td>\n",
       "      <td>8523.0</td>\n",
       "      <td>NaN</td>\n",
       "      <td>NaN</td>\n",
       "      <td>3168.0</td>\n",
       "      <td>355.0</td>\n",
       "      <td>916.0</td>\n",
       "      <td>579.0</td>\n",
       "    </tr>\n",
       "    <tr>\n",
       "      <th>823</th>\n",
       "      <td>CM</td>\n",
       "      <td>2020-04-03</td>\n",
       "      <td>9324.0</td>\n",
       "      <td>NaN</td>\n",
       "      <td>NaN</td>\n",
       "      <td>3133.0</td>\n",
       "      <td>360.0</td>\n",
       "      <td>989.0</td>\n",
       "      <td>657.0</td>\n",
       "    </tr>\n",
       "    <tr>\n",
       "      <th>842</th>\n",
       "      <td>CM</td>\n",
       "      <td>2020-04-04</td>\n",
       "      <td>10031.0</td>\n",
       "      <td>NaN</td>\n",
       "      <td>NaN</td>\n",
       "      <td>2950.0</td>\n",
       "      <td>357.0</td>\n",
       "      <td>1055.0</td>\n",
       "      <td>1149.0</td>\n",
       "    </tr>\n",
       "    <tr>\n",
       "      <th>861</th>\n",
       "      <td>CM</td>\n",
       "      <td>2020-04-05</td>\n",
       "      <td>10602.0</td>\n",
       "      <td>NaN</td>\n",
       "      <td>NaN</td>\n",
       "      <td>2901.0</td>\n",
       "      <td>354.0</td>\n",
       "      <td>1132.0</td>\n",
       "      <td>1259.0</td>\n",
       "    </tr>\n",
       "    <tr>\n",
       "      <th>880</th>\n",
       "      <td>CM</td>\n",
       "      <td>2020-04-06</td>\n",
       "      <td>11077.0</td>\n",
       "      <td>NaN</td>\n",
       "      <td>NaN</td>\n",
       "      <td>2908.0</td>\n",
       "      <td>360.0</td>\n",
       "      <td>1177.0</td>\n",
       "      <td>1353.0</td>\n",
       "    </tr>\n",
       "    <tr>\n",
       "      <th>899</th>\n",
       "      <td>CM</td>\n",
       "      <td>2020-04-07</td>\n",
       "      <td>11788.0</td>\n",
       "      <td>NaN</td>\n",
       "      <td>NaN</td>\n",
       "      <td>2731.0</td>\n",
       "      <td>354.0</td>\n",
       "      <td>1255.0</td>\n",
       "      <td>1557.0</td>\n",
       "    </tr>\n",
       "    <tr>\n",
       "      <th>918</th>\n",
       "      <td>CM</td>\n",
       "      <td>2020-04-08</td>\n",
       "      <td>12489.0</td>\n",
       "      <td>NaN</td>\n",
       "      <td>NaN</td>\n",
       "      <td>2575.0</td>\n",
       "      <td>342.0</td>\n",
       "      <td>1322.0</td>\n",
       "      <td>1766.0</td>\n",
       "    </tr>\n",
       "    <tr>\n",
       "      <th>937</th>\n",
       "      <td>CM</td>\n",
       "      <td>2020-04-09</td>\n",
       "      <td>13063.0</td>\n",
       "      <td>NaN</td>\n",
       "      <td>NaN</td>\n",
       "      <td>2359.0</td>\n",
       "      <td>329.0</td>\n",
       "      <td>1431.0</td>\n",
       "      <td>1982.0</td>\n",
       "    </tr>\n",
       "    <tr>\n",
       "      <th>956</th>\n",
       "      <td>CM</td>\n",
       "      <td>2020-04-10</td>\n",
       "      <td>13456.0</td>\n",
       "      <td>NaN</td>\n",
       "      <td>NaN</td>\n",
       "      <td>2198.0</td>\n",
       "      <td>316.0</td>\n",
       "      <td>1483.0</td>\n",
       "      <td>2205.0</td>\n",
       "    </tr>\n",
       "    <tr>\n",
       "      <th>975</th>\n",
       "      <td>CM</td>\n",
       "      <td>2020-04-11</td>\n",
       "      <td>13698.0</td>\n",
       "      <td>NaN</td>\n",
       "      <td>NaN</td>\n",
       "      <td>6838.0</td>\n",
       "      <td>316.0</td>\n",
       "      <td>1543.0</td>\n",
       "      <td>2365.0</td>\n",
       "    </tr>\n",
       "    <tr>\n",
       "      <th>994</th>\n",
       "      <td>CM</td>\n",
       "      <td>2020-04-12</td>\n",
       "      <td>14054.0</td>\n",
       "      <td>NaN</td>\n",
       "      <td>NaN</td>\n",
       "      <td>7782.0</td>\n",
       "      <td>475.0</td>\n",
       "      <td>1626.0</td>\n",
       "      <td>2532.0</td>\n",
       "    </tr>\n",
       "    <tr>\n",
       "      <th>1013</th>\n",
       "      <td>CM</td>\n",
       "      <td>2020-04-13</td>\n",
       "      <td>14329.0</td>\n",
       "      <td>NaN</td>\n",
       "      <td>NaN</td>\n",
       "      <td>7830.0</td>\n",
       "      <td>486.0</td>\n",
       "      <td>1714.0</td>\n",
       "      <td>2943.0</td>\n",
       "    </tr>\n",
       "    <tr>\n",
       "      <th>1032</th>\n",
       "      <td>CM</td>\n",
       "      <td>2020-04-14</td>\n",
       "      <td>14680.0</td>\n",
       "      <td>NaN</td>\n",
       "      <td>NaN</td>\n",
       "      <td>7896.0</td>\n",
       "      <td>495.0</td>\n",
       "      <td>1755.0</td>\n",
       "      <td>2998.0</td>\n",
       "    </tr>\n",
       "    <tr>\n",
       "      <th>1051</th>\n",
       "      <td>CM</td>\n",
       "      <td>2020-04-15</td>\n",
       "      <td>15151.0</td>\n",
       "      <td>NaN</td>\n",
       "      <td>NaN</td>\n",
       "      <td>7987.0</td>\n",
       "      <td>503.0</td>\n",
       "      <td>1796.0</td>\n",
       "      <td>3378.0</td>\n",
       "    </tr>\n",
       "    <tr>\n",
       "      <th>1070</th>\n",
       "      <td>CM</td>\n",
       "      <td>2020-04-16</td>\n",
       "      <td>15997.0</td>\n",
       "      <td>NaN</td>\n",
       "      <td>NaN</td>\n",
       "      <td>8018.0</td>\n",
       "      <td>511.0</td>\n",
       "      <td>1852.0</td>\n",
       "      <td>3600.0</td>\n",
       "    </tr>\n",
       "    <tr>\n",
       "      <th>1089</th>\n",
       "      <td>CM</td>\n",
       "      <td>2020-04-17</td>\n",
       "      <td>16349.0</td>\n",
       "      <td>NaN</td>\n",
       "      <td>NaN</td>\n",
       "      <td>8093.0</td>\n",
       "      <td>514.0</td>\n",
       "      <td>1913.0</td>\n",
       "      <td>3838.0</td>\n",
       "    </tr>\n",
       "    <tr>\n",
       "      <th>1108</th>\n",
       "      <td>CM</td>\n",
       "      <td>2020-04-18</td>\n",
       "      <td>NaN</td>\n",
       "      <td>14588.0</td>\n",
       "      <td>2037.0</td>\n",
       "      <td>8137.0</td>\n",
       "      <td>518.0</td>\n",
       "      <td>1963.0</td>\n",
       "      <td>3963.0</td>\n",
       "    </tr>\n",
       "    <tr>\n",
       "      <th>1127</th>\n",
       "      <td>CM</td>\n",
       "      <td>2020-04-19</td>\n",
       "      <td>NaN</td>\n",
       "      <td>14725.0</td>\n",
       "      <td>2071.0</td>\n",
       "      <td>8173.0</td>\n",
       "      <td>531.0</td>\n",
       "      <td>2021.0</td>\n",
       "      <td>4178.0</td>\n",
       "    </tr>\n",
       "    <tr>\n",
       "      <th>1146</th>\n",
       "      <td>CM</td>\n",
       "      <td>2020-04-20</td>\n",
       "      <td>NaN</td>\n",
       "      <td>14936.0</td>\n",
       "      <td>2109.0</td>\n",
       "      <td>8199.0</td>\n",
       "      <td>534.0</td>\n",
       "      <td>2075.0</td>\n",
       "      <td>4242.0</td>\n",
       "    </tr>\n",
       "    <tr>\n",
       "      <th>1165</th>\n",
       "      <td>CM</td>\n",
       "      <td>2020-04-21</td>\n",
       "      <td>NaN</td>\n",
       "      <td>15053.0</td>\n",
       "      <td>2268.0</td>\n",
       "      <td>8243.0</td>\n",
       "      <td>537.0</td>\n",
       "      <td>2140.0</td>\n",
       "      <td>4337.0</td>\n",
       "    </tr>\n",
       "    <tr>\n",
       "      <th>1184</th>\n",
       "      <td>CM</td>\n",
       "      <td>2020-04-22</td>\n",
       "      <td>NaN</td>\n",
       "      <td>15128.0</td>\n",
       "      <td>2429.0</td>\n",
       "      <td>8304.0</td>\n",
       "      <td>546.0</td>\n",
       "      <td>2188.0</td>\n",
       "      <td>4577.0</td>\n",
       "    </tr>\n",
       "    <tr>\n",
       "      <th>1203</th>\n",
       "      <td>CM</td>\n",
       "      <td>2020-04-23</td>\n",
       "      <td>NaN</td>\n",
       "      <td>15365.0</td>\n",
       "      <td>2688.0</td>\n",
       "      <td>8342.0</td>\n",
       "      <td>553.0</td>\n",
       "      <td>2255.0</td>\n",
       "      <td>4782.0</td>\n",
       "    </tr>\n",
       "    <tr>\n",
       "      <th>1222</th>\n",
       "      <td>CM</td>\n",
       "      <td>2020-04-24</td>\n",
       "      <td>NaN</td>\n",
       "      <td>15509.0</td>\n",
       "      <td>3016.0</td>\n",
       "      <td>8385.0</td>\n",
       "      <td>559.0</td>\n",
       "      <td>2292.0</td>\n",
       "      <td>4876.0</td>\n",
       "    </tr>\n",
       "  </tbody>\n",
       "</table>\n",
       "<p>65 rows × 9 columns</p>\n",
       "</div>"
      ],
      "text/plain": [
       "     CCAA      FECHA    CASOS     PCR+  TestAc+  Hospitalizados    UCI  \\\n",
       "6      CM 2020-02-20      NaN      NaN      NaN             NaN    NaN   \n",
       "25     CM 2020-02-21      NaN      NaN      NaN             NaN    NaN   \n",
       "44     CM 2020-02-22      NaN      NaN      NaN             NaN    NaN   \n",
       "63     CM 2020-02-23      NaN      NaN      NaN             NaN    NaN   \n",
       "82     CM 2020-02-24      NaN      NaN      NaN             NaN    NaN   \n",
       "101    CM 2020-02-25      NaN      NaN      NaN             NaN    NaN   \n",
       "120    CM 2020-02-26      NaN      NaN      NaN             NaN    NaN   \n",
       "139    CM 2020-02-27      NaN      NaN      NaN             NaN    NaN   \n",
       "158    CM 2020-02-28      NaN      NaN      NaN             NaN    NaN   \n",
       "177    CM 2020-02-29      1.0      NaN      NaN             NaN    NaN   \n",
       "196    CM 2020-03-01      3.0      NaN      NaN             NaN    NaN   \n",
       "215    CM 2020-03-02      7.0      NaN      NaN             NaN    NaN   \n",
       "234    CM 2020-03-03     12.0      NaN      NaN             NaN    NaN   \n",
       "253    CM 2020-03-04     13.0      NaN      NaN             NaN    NaN   \n",
       "272    CM 2020-03-05     15.0      NaN      NaN             NaN    NaN   \n",
       "291    CM 2020-03-06     15.0      NaN      NaN             NaN    NaN   \n",
       "310    CM 2020-03-07     15.0      NaN      NaN             NaN    NaN   \n",
       "329    CM 2020-03-08     26.0      NaN      NaN             NaN    2.0   \n",
       "348    CM 2020-03-09     39.0      NaN      NaN             NaN    3.0   \n",
       "367    CM 2020-03-10     71.0      NaN      NaN             NaN    5.0   \n",
       "386    CM 2020-03-11    115.0      NaN      NaN            39.0    9.0   \n",
       "405    CM 2020-03-12    194.0      NaN      NaN            78.0   10.0   \n",
       "424    CM 2020-03-13    289.0      NaN      NaN            78.0   10.0   \n",
       "443    CM 2020-03-14    401.0      NaN      NaN            78.0   10.0   \n",
       "462    CM 2020-03-15    567.0      NaN      NaN           207.0   23.0   \n",
       "481    CM 2020-03-16    567.0      NaN      NaN           207.0   23.0   \n",
       "500    CM 2020-03-17    675.0      NaN      NaN           277.0   29.0   \n",
       "519    CM 2020-03-18    801.0      NaN      NaN           313.0   37.0   \n",
       "538    CM 2020-03-19   1044.0      NaN      NaN           313.0   37.0   \n",
       "557    CM 2020-03-20   1423.0      NaN      NaN           635.0   65.0   \n",
       "...   ...        ...      ...      ...      ...             ...    ...   \n",
       "671    CM 2020-03-26   3934.0      NaN      NaN          2707.0  273.0   \n",
       "690    CM 2020-03-27   4512.0      NaN      NaN          2977.0  289.0   \n",
       "709    CM 2020-03-28   5246.0      NaN      NaN          3018.0  299.0   \n",
       "728    CM 2020-03-29   5858.0      NaN      NaN          3134.0  302.0   \n",
       "747    CM 2020-03-30   6424.0      NaN      NaN          3225.0  344.0   \n",
       "766    CM 2020-03-31   7047.0      NaN      NaN          3230.0  353.0   \n",
       "785    CM 2020-04-01   7682.0      NaN      NaN          3230.0  355.0   \n",
       "804    CM 2020-04-02   8523.0      NaN      NaN          3168.0  355.0   \n",
       "823    CM 2020-04-03   9324.0      NaN      NaN          3133.0  360.0   \n",
       "842    CM 2020-04-04  10031.0      NaN      NaN          2950.0  357.0   \n",
       "861    CM 2020-04-05  10602.0      NaN      NaN          2901.0  354.0   \n",
       "880    CM 2020-04-06  11077.0      NaN      NaN          2908.0  360.0   \n",
       "899    CM 2020-04-07  11788.0      NaN      NaN          2731.0  354.0   \n",
       "918    CM 2020-04-08  12489.0      NaN      NaN          2575.0  342.0   \n",
       "937    CM 2020-04-09  13063.0      NaN      NaN          2359.0  329.0   \n",
       "956    CM 2020-04-10  13456.0      NaN      NaN          2198.0  316.0   \n",
       "975    CM 2020-04-11  13698.0      NaN      NaN          6838.0  316.0   \n",
       "994    CM 2020-04-12  14054.0      NaN      NaN          7782.0  475.0   \n",
       "1013   CM 2020-04-13  14329.0      NaN      NaN          7830.0  486.0   \n",
       "1032   CM 2020-04-14  14680.0      NaN      NaN          7896.0  495.0   \n",
       "1051   CM 2020-04-15  15151.0      NaN      NaN          7987.0  503.0   \n",
       "1070   CM 2020-04-16  15997.0      NaN      NaN          8018.0  511.0   \n",
       "1089   CM 2020-04-17  16349.0      NaN      NaN          8093.0  514.0   \n",
       "1108   CM 2020-04-18      NaN  14588.0   2037.0          8137.0  518.0   \n",
       "1127   CM 2020-04-19      NaN  14725.0   2071.0          8173.0  531.0   \n",
       "1146   CM 2020-04-20      NaN  14936.0   2109.0          8199.0  534.0   \n",
       "1165   CM 2020-04-21      NaN  15053.0   2268.0          8243.0  537.0   \n",
       "1184   CM 2020-04-22      NaN  15128.0   2429.0          8304.0  546.0   \n",
       "1203   CM 2020-04-23      NaN  15365.0   2688.0          8342.0  553.0   \n",
       "1222   CM 2020-04-24      NaN  15509.0   3016.0          8385.0  559.0   \n",
       "\n",
       "      Fallecidos  Recuperados  \n",
       "6            NaN          NaN  \n",
       "25           NaN          NaN  \n",
       "44           NaN          NaN  \n",
       "63           NaN          NaN  \n",
       "82           NaN          NaN  \n",
       "101          NaN          NaN  \n",
       "120          NaN          NaN  \n",
       "139          NaN          NaN  \n",
       "158          NaN          NaN  \n",
       "177          NaN          NaN  \n",
       "196          NaN          NaN  \n",
       "215          NaN          NaN  \n",
       "234          NaN          NaN  \n",
       "253          NaN          NaN  \n",
       "272          NaN          NaN  \n",
       "291          NaN          NaN  \n",
       "310          NaN          NaN  \n",
       "329          NaN          2.0  \n",
       "348          NaN          2.0  \n",
       "367          NaN          2.0  \n",
       "386          1.0          2.0  \n",
       "405          5.0          1.0  \n",
       "424          6.0          5.0  \n",
       "443         10.0          5.0  \n",
       "462         17.0         12.0  \n",
       "481         17.0         12.0  \n",
       "500         28.0         15.0  \n",
       "519         42.0         27.0  \n",
       "538         42.0         27.0  \n",
       "557         84.0         38.0  \n",
       "...          ...          ...  \n",
       "671        367.0        153.0  \n",
       "690        448.0        197.0  \n",
       "709        539.0        236.0  \n",
       "728        622.0        252.0  \n",
       "747        708.0        296.0  \n",
       "766        774.0        397.0  \n",
       "785        854.0        494.0  \n",
       "804        916.0        579.0  \n",
       "823        989.0        657.0  \n",
       "842       1055.0       1149.0  \n",
       "861       1132.0       1259.0  \n",
       "880       1177.0       1353.0  \n",
       "899       1255.0       1557.0  \n",
       "918       1322.0       1766.0  \n",
       "937       1431.0       1982.0  \n",
       "956       1483.0       2205.0  \n",
       "975       1543.0       2365.0  \n",
       "994       1626.0       2532.0  \n",
       "1013      1714.0       2943.0  \n",
       "1032      1755.0       2998.0  \n",
       "1051      1796.0       3378.0  \n",
       "1070      1852.0       3600.0  \n",
       "1089      1913.0       3838.0  \n",
       "1108      1963.0       3963.0  \n",
       "1127      2021.0       4178.0  \n",
       "1146      2075.0       4242.0  \n",
       "1165      2140.0       4337.0  \n",
       "1184      2188.0       4577.0  \n",
       "1203      2255.0       4782.0  \n",
       "1222      2292.0       4876.0  \n",
       "\n",
       "[65 rows x 9 columns]"
      ]
     },
     "execution_count": 34,
     "metadata": {},
     "output_type": "execute_result"
    }
   ],
   "source": [
    "df_regiones[\"CM\"]"
   ]
  },
  {
   "cell_type": "code",
   "execution_count": null,
   "metadata": {},
   "outputs": [],
   "source": []
  },
  {
   "cell_type": "markdown",
   "metadata": {},
   "source": [
    "### Desde el día 11/04/2020 las cifras de hospitalizados de CM son casos acumulados. Previamente se refieren a personas ingresadas ese día."
   ]
  },
  {
   "cell_type": "markdown",
   "metadata": {},
   "source": [
    "### Grafica de casos\n",
    "        "
   ]
  },
  {
   "cell_type": "code",
   "execution_count": 14,
   "metadata": {},
   "outputs": [],
   "source": [
    "import matplotlib\n",
    "\n",
    "rgb_colors = {}\n",
    "for name, hex in matplotlib.colors.cnames.items():\n",
    "    rgb_colors[name] = matplotlib.colors.to_rgb(hex)\n",
    "\n"
   ]
  },
  {
   "cell_type": "code",
   "execution_count": 15,
   "metadata": {},
   "outputs": [
    {
     "data": {
      "text/plain": [
       "list"
      ]
     },
     "execution_count": 15,
     "metadata": {},
     "output_type": "execute_result"
    }
   ],
   "source": [
    "type(list(rgb_colors.keys()))"
   ]
  },
  {
   "cell_type": "code",
   "execution_count": 16,
   "metadata": {},
   "outputs": [
    {
     "data": {
      "text/plain": [
       "19"
      ]
     },
     "execution_count": 16,
     "metadata": {},
     "output_type": "execute_result"
    }
   ],
   "source": [
    "len(df2[\"CCAA\"].unique())"
   ]
  },
  {
   "cell_type": "code",
   "execution_count": null,
   "metadata": {},
   "outputs": [],
   "source": []
  },
  {
   "cell_type": "code",
   "execution_count": 17,
   "metadata": {},
   "outputs": [
    {
     "data": {
      "text/plain": [
       "(0.8549019607843137, 0.6470588235294118, 0.12549019607843137)"
      ]
     },
     "execution_count": 17,
     "metadata": {},
     "output_type": "execute_result"
    }
   ],
   "source": [
    "rgb_colors[list(rgb_colors.keys())[52]]"
   ]
  },
  {
   "cell_type": "code",
   "execution_count": 18,
   "metadata": {},
   "outputs": [
    {
     "name": "stdout",
     "output_type": "stream",
     "text": [
      "Requirement already satisfied: ipywidgets in c:\\users\\usuario\\documents\\anaconda3\\lib\\site-packages (7.5.0)\n",
      "Requirement already satisfied: traitlets>=4.3.1 in c:\\users\\usuario\\documents\\anaconda3\\lib\\site-packages (from ipywidgets) (4.3.2)\n",
      "Requirement already satisfied: ipykernel>=4.5.1 in c:\\users\\usuario\\documents\\anaconda3\\lib\\site-packages (from ipywidgets) (5.1.1)\n",
      "Requirement already satisfied: ipython>=4.0.0; python_version >= \"3.3\" in c:\\users\\usuario\\documents\\anaconda3\\lib\\site-packages (from ipywidgets) (7.6.1)\n",
      "Requirement already satisfied: widgetsnbextension~=3.5.0 in c:\\users\\usuario\\documents\\anaconda3\\lib\\site-packages (from ipywidgets) (3.5.0)\n",
      "Requirement already satisfied: nbformat>=4.2.0 in c:\\users\\usuario\\documents\\anaconda3\\lib\\site-packages (from ipywidgets) (4.4.0)\n",
      "Requirement already satisfied: six in c:\\users\\usuario\\documents\\anaconda3\\lib\\site-packages (from traitlets>=4.3.1->ipywidgets) (1.12.0)\n",
      "Requirement already satisfied: decorator in c:\\users\\usuario\\documents\\anaconda3\\lib\\site-packages (from traitlets>=4.3.1->ipywidgets) (4.4.0)\n",
      "Requirement already satisfied: ipython-genutils in c:\\users\\usuario\\documents\\anaconda3\\lib\\site-packages (from traitlets>=4.3.1->ipywidgets) (0.2.0)\n",
      "Requirement already satisfied: tornado>=4.2 in c:\\users\\usuario\\documents\\anaconda3\\lib\\site-packages (from ipykernel>=4.5.1->ipywidgets) (6.0.3)\n",
      "Requirement already satisfied: jupyter-client in c:\\users\\usuario\\documents\\anaconda3\\lib\\site-packages (from ipykernel>=4.5.1->ipywidgets) (5.3.1)\n",
      "Requirement already satisfied: backcall in c:\\users\\usuario\\documents\\anaconda3\\lib\\site-packages (from ipython>=4.0.0; python_version >= \"3.3\"->ipywidgets) (0.1.0)\n",
      "Requirement already satisfied: setuptools>=18.5 in c:\\users\\usuario\\documents\\anaconda3\\lib\\site-packages (from ipython>=4.0.0; python_version >= \"3.3\"->ipywidgets) (41.0.1)\n",
      "Requirement already satisfied: pickleshare in c:\\users\\usuario\\documents\\anaconda3\\lib\\site-packages (from ipython>=4.0.0; python_version >= \"3.3\"->ipywidgets) (0.7.5)\n",
      "Requirement already satisfied: jedi>=0.10 in c:\\users\\usuario\\documents\\anaconda3\\lib\\site-packages (from ipython>=4.0.0; python_version >= \"3.3\"->ipywidgets) (0.13.3)\n",
      "Requirement already satisfied: colorama; sys_platform == \"win32\" in c:\\users\\usuario\\documents\\anaconda3\\lib\\site-packages (from ipython>=4.0.0; python_version >= \"3.3\"->ipywidgets) (0.4.1)\n",
      "Requirement already satisfied: pygments in c:\\users\\usuario\\documents\\anaconda3\\lib\\site-packages (from ipython>=4.0.0; python_version >= \"3.3\"->ipywidgets) (2.4.2)\n",
      "Requirement already satisfied: prompt-toolkit<2.1.0,>=2.0.0 in c:\\users\\usuario\\documents\\anaconda3\\lib\\site-packages (from ipython>=4.0.0; python_version >= \"3.3\"->ipywidgets) (2.0.9)\n",
      "Requirement already satisfied: notebook>=4.4.1 in c:\\users\\usuario\\documents\\anaconda3\\lib\\site-packages (from widgetsnbextension~=3.5.0->ipywidgets) (6.0.0)\n",
      "Requirement already satisfied: jsonschema!=2.5.0,>=2.4 in c:\\users\\usuario\\documents\\anaconda3\\lib\\site-packages (from nbformat>=4.2.0->ipywidgets) (3.0.1)\n",
      "Requirement already satisfied: jupyter-core in c:\\users\\usuario\\documents\\anaconda3\\lib\\site-packages (from nbformat>=4.2.0->ipywidgets) (4.5.0)\n",
      "Requirement already satisfied: python-dateutil>=2.1 in c:\\users\\usuario\\documents\\anaconda3\\lib\\site-packages (from jupyter-client->ipykernel>=4.5.1->ipywidgets) (2.8.0)\n",
      "Requirement already satisfied: pyzmq>=13 in c:\\users\\usuario\\documents\\anaconda3\\lib\\site-packages (from jupyter-client->ipykernel>=4.5.1->ipywidgets) (18.0.0)\n",
      "Requirement already satisfied: parso>=0.3.0 in c:\\users\\usuario\\documents\\anaconda3\\lib\\site-packages (from jedi>=0.10->ipython>=4.0.0; python_version >= \"3.3\"->ipywidgets) (0.5.0)\n",
      "Requirement already satisfied: wcwidth in c:\\users\\usuario\\documents\\anaconda3\\lib\\site-packages (from prompt-toolkit<2.1.0,>=2.0.0->ipython>=4.0.0; python_version >= \"3.3\"->ipywidgets) (0.1.7)\n",
      "Requirement already satisfied: Send2Trash in c:\\users\\usuario\\documents\\anaconda3\\lib\\site-packages (from notebook>=4.4.1->widgetsnbextension~=3.5.0->ipywidgets) (1.5.0)\n",
      "Requirement already satisfied: terminado>=0.8.1 in c:\\users\\usuario\\documents\\anaconda3\\lib\\site-packages (from notebook>=4.4.1->widgetsnbextension~=3.5.0->ipywidgets) (0.8.2)\n",
      "Requirement already satisfied: prometheus-client in c:\\users\\usuario\\documents\\anaconda3\\lib\\site-packages (from notebook>=4.4.1->widgetsnbextension~=3.5.0->ipywidgets) (0.7.1)\n",
      "Requirement already satisfied: jinja2 in c:\\users\\usuario\\documents\\anaconda3\\lib\\site-packages (from notebook>=4.4.1->widgetsnbextension~=3.5.0->ipywidgets) (2.10.1)\n",
      "Requirement already satisfied: nbconvert in c:\\users\\usuario\\documents\\anaconda3\\lib\\site-packages (from notebook>=4.4.1->widgetsnbextension~=3.5.0->ipywidgets) (5.5.0)\n",
      "Requirement already satisfied: attrs>=17.4.0 in c:\\users\\usuario\\documents\\anaconda3\\lib\\site-packages (from jsonschema!=2.5.0,>=2.4->nbformat>=4.2.0->ipywidgets) (19.1.0)\n",
      "Requirement already satisfied: pyrsistent>=0.14.0 in c:\\users\\usuario\\documents\\anaconda3\\lib\\site-packages (from jsonschema!=2.5.0,>=2.4->nbformat>=4.2.0->ipywidgets) (0.14.11)\n",
      "Requirement already satisfied: MarkupSafe>=0.23 in c:\\users\\usuario\\documents\\anaconda3\\lib\\site-packages (from jinja2->notebook>=4.4.1->widgetsnbextension~=3.5.0->ipywidgets) (1.1.1)\n",
      "Requirement already satisfied: bleach in c:\\users\\usuario\\documents\\anaconda3\\lib\\site-packages (from nbconvert->notebook>=4.4.1->widgetsnbextension~=3.5.0->ipywidgets) (3.1.0)\n",
      "Requirement already satisfied: defusedxml in c:\\users\\usuario\\documents\\anaconda3\\lib\\site-packages (from nbconvert->notebook>=4.4.1->widgetsnbextension~=3.5.0->ipywidgets) (0.6.0)\n",
      "Requirement already satisfied: entrypoints>=0.2.2 in c:\\users\\usuario\\documents\\anaconda3\\lib\\site-packages (from nbconvert->notebook>=4.4.1->widgetsnbextension~=3.5.0->ipywidgets) (0.3)\n",
      "Requirement already satisfied: testpath in c:\\users\\usuario\\documents\\anaconda3\\lib\\site-packages (from nbconvert->notebook>=4.4.1->widgetsnbextension~=3.5.0->ipywidgets) (0.4.2)\n",
      "Requirement already satisfied: pandocfilters>=1.4.1 in c:\\users\\usuario\\documents\\anaconda3\\lib\\site-packages (from nbconvert->notebook>=4.4.1->widgetsnbextension~=3.5.0->ipywidgets) (1.4.2)\n",
      "Requirement already satisfied: mistune>=0.8.1 in c:\\users\\usuario\\documents\\anaconda3\\lib\\site-packages (from nbconvert->notebook>=4.4.1->widgetsnbextension~=3.5.0->ipywidgets) (0.8.4)\n",
      "Requirement already satisfied: webencodings in c:\\users\\usuario\\documents\\anaconda3\\lib\\site-packages (from bleach->nbconvert->notebook>=4.4.1->widgetsnbextension~=3.5.0->ipywidgets) (0.5.1)\n",
      "Note: you may need to restart the kernel to use updated packages.\n"
     ]
    }
   ],
   "source": [
    "pip install ipywidgets"
   ]
  },
  {
   "cell_type": "code",
   "execution_count": null,
   "metadata": {},
   "outputs": [],
   "source": []
  },
  {
   "cell_type": "code",
   "execution_count": 19,
   "metadata": {},
   "outputs": [
    {
     "data": {
      "text/html": [
       "        <script type=\"text/javascript\">\n",
       "        window.PlotlyConfig = {MathJaxConfig: 'local'};\n",
       "        if (window.MathJax) {MathJax.Hub.Config({SVG: {font: \"STIX-Web\"}});}\n",
       "        if (typeof require !== 'undefined') {\n",
       "        require.undef(\"plotly\");\n",
       "        requirejs.config({\n",
       "            paths: {\n",
       "                'plotly': ['https://cdn.plot.ly/plotly-latest.min']\n",
       "            }\n",
       "        });\n",
       "        require(['plotly'], function(Plotly) {\n",
       "            window._Plotly = Plotly;\n",
       "        });\n",
       "        }\n",
       "        </script>\n",
       "        "
      ]
     },
     "metadata": {},
     "output_type": "display_data"
    }
   ],
   "source": [
    "from bokeh.palettes import all_palettes\n",
    "import plotly.offline as py\n",
    "import plotly.graph_objs as go\n",
    "from plotly.offline import init_notebook_mode, iplot, plot\n",
    "from plotly import tools\n",
    "init_notebook_mode(connected=True)"
   ]
  },
  {
   "cell_type": "code",
   "execution_count": 20,
   "metadata": {},
   "outputs": [
    {
     "data": {
      "text/plain": [
       "['#1f77b4',\n",
       " '#aec7e8',\n",
       " '#ff7f0e',\n",
       " '#ffbb78',\n",
       " '#2ca02c',\n",
       " '#98df8a',\n",
       " '#d62728',\n",
       " '#ff9896',\n",
       " '#9467bd',\n",
       " '#c5b0d5',\n",
       " '#8c564b',\n",
       " '#c49c94',\n",
       " '#e377c2',\n",
       " '#f7b6d2',\n",
       " '#7f7f7f',\n",
       " '#c7c7c7',\n",
       " '#bcbd22',\n",
       " '#dbdb8d',\n",
       " '#17becf',\n",
       " '#9edae5']"
      ]
     },
     "execution_count": 20,
     "metadata": {},
     "output_type": "execute_result"
    }
   ],
   "source": [
    "all_palettes[\"Category20\"][20]"
   ]
  },
  {
   "cell_type": "code",
   "execution_count": 31,
   "metadata": {},
   "outputs": [
    {
     "data": {
      "text/html": [
       "<div>\n",
       "<style scoped>\n",
       "    .dataframe tbody tr th:only-of-type {\n",
       "        vertical-align: middle;\n",
       "    }\n",
       "\n",
       "    .dataframe tbody tr th {\n",
       "        vertical-align: top;\n",
       "    }\n",
       "\n",
       "    .dataframe thead th {\n",
       "        text-align: right;\n",
       "    }\n",
       "</style>\n",
       "<table border=\"1\" class=\"dataframe\">\n",
       "  <thead>\n",
       "    <tr style=\"text-align: right;\">\n",
       "      <th></th>\n",
       "      <th>CCAA</th>\n",
       "      <th>FECHA</th>\n",
       "      <th>CASOS</th>\n",
       "      <th>PCR+</th>\n",
       "      <th>TestAc+</th>\n",
       "      <th>Hospitalizados</th>\n",
       "      <th>UCI</th>\n",
       "      <th>Fallecidos</th>\n",
       "      <th>Recuperados</th>\n",
       "    </tr>\n",
       "  </thead>\n",
       "  <tbody>\n",
       "    <tr>\n",
       "      <th>0</th>\n",
       "      <td>AN</td>\n",
       "      <td>2020-02-20</td>\n",
       "      <td>0.0</td>\n",
       "      <td>0.0</td>\n",
       "      <td>0.0</td>\n",
       "      <td>0.0</td>\n",
       "      <td>0.0</td>\n",
       "      <td>0.0</td>\n",
       "      <td>0.0</td>\n",
       "    </tr>\n",
       "    <tr>\n",
       "      <th>19</th>\n",
       "      <td>AN</td>\n",
       "      <td>2020-02-21</td>\n",
       "      <td>0.0</td>\n",
       "      <td>0.0</td>\n",
       "      <td>0.0</td>\n",
       "      <td>0.0</td>\n",
       "      <td>0.0</td>\n",
       "      <td>0.0</td>\n",
       "      <td>0.0</td>\n",
       "    </tr>\n",
       "    <tr>\n",
       "      <th>38</th>\n",
       "      <td>AN</td>\n",
       "      <td>2020-02-22</td>\n",
       "      <td>0.0</td>\n",
       "      <td>0.0</td>\n",
       "      <td>0.0</td>\n",
       "      <td>0.0</td>\n",
       "      <td>0.0</td>\n",
       "      <td>0.0</td>\n",
       "      <td>0.0</td>\n",
       "    </tr>\n",
       "    <tr>\n",
       "      <th>57</th>\n",
       "      <td>AN</td>\n",
       "      <td>2020-02-23</td>\n",
       "      <td>0.0</td>\n",
       "      <td>0.0</td>\n",
       "      <td>0.0</td>\n",
       "      <td>0.0</td>\n",
       "      <td>0.0</td>\n",
       "      <td>0.0</td>\n",
       "      <td>0.0</td>\n",
       "    </tr>\n",
       "    <tr>\n",
       "      <th>76</th>\n",
       "      <td>AN</td>\n",
       "      <td>2020-02-24</td>\n",
       "      <td>0.0</td>\n",
       "      <td>0.0</td>\n",
       "      <td>0.0</td>\n",
       "      <td>0.0</td>\n",
       "      <td>0.0</td>\n",
       "      <td>0.0</td>\n",
       "      <td>0.0</td>\n",
       "    </tr>\n",
       "    <tr>\n",
       "      <th>95</th>\n",
       "      <td>AN</td>\n",
       "      <td>2020-02-25</td>\n",
       "      <td>0.0</td>\n",
       "      <td>0.0</td>\n",
       "      <td>0.0</td>\n",
       "      <td>0.0</td>\n",
       "      <td>0.0</td>\n",
       "      <td>0.0</td>\n",
       "      <td>0.0</td>\n",
       "    </tr>\n",
       "    <tr>\n",
       "      <th>114</th>\n",
       "      <td>AN</td>\n",
       "      <td>2020-02-26</td>\n",
       "      <td>1.0</td>\n",
       "      <td>0.0</td>\n",
       "      <td>0.0</td>\n",
       "      <td>0.0</td>\n",
       "      <td>0.0</td>\n",
       "      <td>0.0</td>\n",
       "      <td>0.0</td>\n",
       "    </tr>\n",
       "    <tr>\n",
       "      <th>133</th>\n",
       "      <td>AN</td>\n",
       "      <td>2020-02-27</td>\n",
       "      <td>6.0</td>\n",
       "      <td>0.0</td>\n",
       "      <td>0.0</td>\n",
       "      <td>0.0</td>\n",
       "      <td>0.0</td>\n",
       "      <td>0.0</td>\n",
       "      <td>0.0</td>\n",
       "    </tr>\n",
       "    <tr>\n",
       "      <th>152</th>\n",
       "      <td>AN</td>\n",
       "      <td>2020-02-28</td>\n",
       "      <td>8.0</td>\n",
       "      <td>0.0</td>\n",
       "      <td>0.0</td>\n",
       "      <td>0.0</td>\n",
       "      <td>0.0</td>\n",
       "      <td>0.0</td>\n",
       "      <td>0.0</td>\n",
       "    </tr>\n",
       "    <tr>\n",
       "      <th>171</th>\n",
       "      <td>AN</td>\n",
       "      <td>2020-02-29</td>\n",
       "      <td>12.0</td>\n",
       "      <td>0.0</td>\n",
       "      <td>0.0</td>\n",
       "      <td>0.0</td>\n",
       "      <td>0.0</td>\n",
       "      <td>0.0</td>\n",
       "      <td>0.0</td>\n",
       "    </tr>\n",
       "    <tr>\n",
       "      <th>190</th>\n",
       "      <td>AN</td>\n",
       "      <td>2020-03-01</td>\n",
       "      <td>12.0</td>\n",
       "      <td>0.0</td>\n",
       "      <td>0.0</td>\n",
       "      <td>0.0</td>\n",
       "      <td>0.0</td>\n",
       "      <td>0.0</td>\n",
       "      <td>0.0</td>\n",
       "    </tr>\n",
       "    <tr>\n",
       "      <th>209</th>\n",
       "      <td>AN</td>\n",
       "      <td>2020-03-02</td>\n",
       "      <td>12.0</td>\n",
       "      <td>0.0</td>\n",
       "      <td>0.0</td>\n",
       "      <td>0.0</td>\n",
       "      <td>0.0</td>\n",
       "      <td>0.0</td>\n",
       "      <td>0.0</td>\n",
       "    </tr>\n",
       "    <tr>\n",
       "      <th>228</th>\n",
       "      <td>AN</td>\n",
       "      <td>2020-03-03</td>\n",
       "      <td>12.0</td>\n",
       "      <td>0.0</td>\n",
       "      <td>0.0</td>\n",
       "      <td>0.0</td>\n",
       "      <td>0.0</td>\n",
       "      <td>0.0</td>\n",
       "      <td>0.0</td>\n",
       "    </tr>\n",
       "    <tr>\n",
       "      <th>247</th>\n",
       "      <td>AN</td>\n",
       "      <td>2020-03-04</td>\n",
       "      <td>12.0</td>\n",
       "      <td>0.0</td>\n",
       "      <td>0.0</td>\n",
       "      <td>0.0</td>\n",
       "      <td>0.0</td>\n",
       "      <td>0.0</td>\n",
       "      <td>0.0</td>\n",
       "    </tr>\n",
       "    <tr>\n",
       "      <th>266</th>\n",
       "      <td>AN</td>\n",
       "      <td>2020-03-05</td>\n",
       "      <td>21.0</td>\n",
       "      <td>0.0</td>\n",
       "      <td>0.0</td>\n",
       "      <td>0.0</td>\n",
       "      <td>0.0</td>\n",
       "      <td>0.0</td>\n",
       "      <td>0.0</td>\n",
       "    </tr>\n",
       "    <tr>\n",
       "      <th>285</th>\n",
       "      <td>AN</td>\n",
       "      <td>2020-03-06</td>\n",
       "      <td>27.0</td>\n",
       "      <td>0.0</td>\n",
       "      <td>0.0</td>\n",
       "      <td>0.0</td>\n",
       "      <td>0.0</td>\n",
       "      <td>0.0</td>\n",
       "      <td>0.0</td>\n",
       "    </tr>\n",
       "    <tr>\n",
       "      <th>304</th>\n",
       "      <td>AN</td>\n",
       "      <td>2020-03-07</td>\n",
       "      <td>34.0</td>\n",
       "      <td>0.0</td>\n",
       "      <td>0.0</td>\n",
       "      <td>0.0</td>\n",
       "      <td>0.0</td>\n",
       "      <td>0.0</td>\n",
       "      <td>0.0</td>\n",
       "    </tr>\n",
       "    <tr>\n",
       "      <th>323</th>\n",
       "      <td>AN</td>\n",
       "      <td>2020-03-08</td>\n",
       "      <td>54.0</td>\n",
       "      <td>0.0</td>\n",
       "      <td>0.0</td>\n",
       "      <td>0.0</td>\n",
       "      <td>1.0</td>\n",
       "      <td>0.0</td>\n",
       "      <td>11.0</td>\n",
       "    </tr>\n",
       "    <tr>\n",
       "      <th>342</th>\n",
       "      <td>AN</td>\n",
       "      <td>2020-03-09</td>\n",
       "      <td>71.0</td>\n",
       "      <td>0.0</td>\n",
       "      <td>0.0</td>\n",
       "      <td>0.0</td>\n",
       "      <td>1.0</td>\n",
       "      <td>0.0</td>\n",
       "      <td>11.0</td>\n",
       "    </tr>\n",
       "    <tr>\n",
       "      <th>361</th>\n",
       "      <td>AN</td>\n",
       "      <td>2020-03-10</td>\n",
       "      <td>90.0</td>\n",
       "      <td>0.0</td>\n",
       "      <td>0.0</td>\n",
       "      <td>32.0</td>\n",
       "      <td>3.0</td>\n",
       "      <td>0.0</td>\n",
       "      <td>11.0</td>\n",
       "    </tr>\n",
       "    <tr>\n",
       "      <th>380</th>\n",
       "      <td>AN</td>\n",
       "      <td>2020-03-11</td>\n",
       "      <td>115.0</td>\n",
       "      <td>0.0</td>\n",
       "      <td>0.0</td>\n",
       "      <td>50.0</td>\n",
       "      <td>4.0</td>\n",
       "      <td>0.0</td>\n",
       "      <td>11.0</td>\n",
       "    </tr>\n",
       "    <tr>\n",
       "      <th>399</th>\n",
       "      <td>AN</td>\n",
       "      <td>2020-03-12</td>\n",
       "      <td>219.0</td>\n",
       "      <td>0.0</td>\n",
       "      <td>0.0</td>\n",
       "      <td>92.0</td>\n",
       "      <td>8.0</td>\n",
       "      <td>0.0</td>\n",
       "      <td>0.0</td>\n",
       "    </tr>\n",
       "    <tr>\n",
       "      <th>418</th>\n",
       "      <td>AN</td>\n",
       "      <td>2020-03-13</td>\n",
       "      <td>269.0</td>\n",
       "      <td>0.0</td>\n",
       "      <td>0.0</td>\n",
       "      <td>92.0</td>\n",
       "      <td>8.0</td>\n",
       "      <td>2.0</td>\n",
       "      <td>0.0</td>\n",
       "    </tr>\n",
       "    <tr>\n",
       "      <th>437</th>\n",
       "      <td>AN</td>\n",
       "      <td>2020-03-14</td>\n",
       "      <td>437.0</td>\n",
       "      <td>0.0</td>\n",
       "      <td>0.0</td>\n",
       "      <td>92.0</td>\n",
       "      <td>8.0</td>\n",
       "      <td>6.0</td>\n",
       "      <td>0.0</td>\n",
       "    </tr>\n",
       "    <tr>\n",
       "      <th>456</th>\n",
       "      <td>AN</td>\n",
       "      <td>2020-03-15</td>\n",
       "      <td>554.0</td>\n",
       "      <td>0.0</td>\n",
       "      <td>0.0</td>\n",
       "      <td>197.0</td>\n",
       "      <td>11.0</td>\n",
       "      <td>7.0</td>\n",
       "      <td>0.0</td>\n",
       "    </tr>\n",
       "    <tr>\n",
       "      <th>475</th>\n",
       "      <td>AN</td>\n",
       "      <td>2020-03-16</td>\n",
       "      <td>683.0</td>\n",
       "      <td>0.0</td>\n",
       "      <td>0.0</td>\n",
       "      <td>229.0</td>\n",
       "      <td>13.0</td>\n",
       "      <td>11.0</td>\n",
       "      <td>0.0</td>\n",
       "    </tr>\n",
       "    <tr>\n",
       "      <th>494</th>\n",
       "      <td>AN</td>\n",
       "      <td>2020-03-17</td>\n",
       "      <td>859.0</td>\n",
       "      <td>0.0</td>\n",
       "      <td>0.0</td>\n",
       "      <td>319.0</td>\n",
       "      <td>21.0</td>\n",
       "      <td>19.0</td>\n",
       "      <td>38.0</td>\n",
       "    </tr>\n",
       "    <tr>\n",
       "      <th>513</th>\n",
       "      <td>AN</td>\n",
       "      <td>2020-03-18</td>\n",
       "      <td>1008.0</td>\n",
       "      <td>0.0</td>\n",
       "      <td>0.0</td>\n",
       "      <td>384.0</td>\n",
       "      <td>25.0</td>\n",
       "      <td>23.0</td>\n",
       "      <td>33.0</td>\n",
       "    </tr>\n",
       "    <tr>\n",
       "      <th>532</th>\n",
       "      <td>AN</td>\n",
       "      <td>2020-03-19</td>\n",
       "      <td>1287.0</td>\n",
       "      <td>0.0</td>\n",
       "      <td>0.0</td>\n",
       "      <td>501.0</td>\n",
       "      <td>38.0</td>\n",
       "      <td>30.0</td>\n",
       "      <td>36.0</td>\n",
       "    </tr>\n",
       "    <tr>\n",
       "      <th>551</th>\n",
       "      <td>AN</td>\n",
       "      <td>2020-03-20</td>\n",
       "      <td>1515.0</td>\n",
       "      <td>0.0</td>\n",
       "      <td>0.0</td>\n",
       "      <td>605.0</td>\n",
       "      <td>53.0</td>\n",
       "      <td>40.0</td>\n",
       "      <td>36.0</td>\n",
       "    </tr>\n",
       "    <tr>\n",
       "      <th>...</th>\n",
       "      <td>...</td>\n",
       "      <td>...</td>\n",
       "      <td>...</td>\n",
       "      <td>...</td>\n",
       "      <td>...</td>\n",
       "      <td>...</td>\n",
       "      <td>...</td>\n",
       "      <td>...</td>\n",
       "      <td>...</td>\n",
       "    </tr>\n",
       "    <tr>\n",
       "      <th>665</th>\n",
       "      <td>AN</td>\n",
       "      <td>2020-03-26</td>\n",
       "      <td>3793.0</td>\n",
       "      <td>0.0</td>\n",
       "      <td>0.0</td>\n",
       "      <td>1843.0</td>\n",
       "      <td>148.0</td>\n",
       "      <td>144.0</td>\n",
       "      <td>92.0</td>\n",
       "    </tr>\n",
       "    <tr>\n",
       "      <th>684</th>\n",
       "      <td>AN</td>\n",
       "      <td>2020-03-27</td>\n",
       "      <td>4277.0</td>\n",
       "      <td>0.0</td>\n",
       "      <td>0.0</td>\n",
       "      <td>2106.0</td>\n",
       "      <td>172.0</td>\n",
       "      <td>175.0</td>\n",
       "      <td>139.0</td>\n",
       "    </tr>\n",
       "    <tr>\n",
       "      <th>703</th>\n",
       "      <td>AN</td>\n",
       "      <td>2020-03-28</td>\n",
       "      <td>4682.0</td>\n",
       "      <td>0.0</td>\n",
       "      <td>0.0</td>\n",
       "      <td>2294.0</td>\n",
       "      <td>201.0</td>\n",
       "      <td>207.0</td>\n",
       "      <td>148.0</td>\n",
       "    </tr>\n",
       "    <tr>\n",
       "      <th>722</th>\n",
       "      <td>AN</td>\n",
       "      <td>2020-03-29</td>\n",
       "      <td>5405.0</td>\n",
       "      <td>0.0</td>\n",
       "      <td>0.0</td>\n",
       "      <td>2671.0</td>\n",
       "      <td>216.0</td>\n",
       "      <td>236.0</td>\n",
       "      <td>155.0</td>\n",
       "    </tr>\n",
       "    <tr>\n",
       "      <th>741</th>\n",
       "      <td>AN</td>\n",
       "      <td>2020-03-30</td>\n",
       "      <td>5818.0</td>\n",
       "      <td>0.0</td>\n",
       "      <td>0.0</td>\n",
       "      <td>2867.0</td>\n",
       "      <td>235.0</td>\n",
       "      <td>248.0</td>\n",
       "      <td>160.0</td>\n",
       "    </tr>\n",
       "    <tr>\n",
       "      <th>760</th>\n",
       "      <td>AN</td>\n",
       "      <td>2020-03-31</td>\n",
       "      <td>6392.0</td>\n",
       "      <td>0.0</td>\n",
       "      <td>0.0</td>\n",
       "      <td>3147.0</td>\n",
       "      <td>260.0</td>\n",
       "      <td>308.0</td>\n",
       "      <td>182.0</td>\n",
       "    </tr>\n",
       "    <tr>\n",
       "      <th>779</th>\n",
       "      <td>AN</td>\n",
       "      <td>2020-04-01</td>\n",
       "      <td>6972.0</td>\n",
       "      <td>0.0</td>\n",
       "      <td>0.0</td>\n",
       "      <td>3444.0</td>\n",
       "      <td>280.0</td>\n",
       "      <td>343.0</td>\n",
       "      <td>228.0</td>\n",
       "    </tr>\n",
       "    <tr>\n",
       "      <th>798</th>\n",
       "      <td>AN</td>\n",
       "      <td>2020-04-02</td>\n",
       "      <td>7374.0</td>\n",
       "      <td>0.0</td>\n",
       "      <td>0.0</td>\n",
       "      <td>3673.0</td>\n",
       "      <td>338.0</td>\n",
       "      <td>376.0</td>\n",
       "      <td>258.0</td>\n",
       "    </tr>\n",
       "    <tr>\n",
       "      <th>817</th>\n",
       "      <td>AN</td>\n",
       "      <td>2020-04-03</td>\n",
       "      <td>7869.0</td>\n",
       "      <td>0.0</td>\n",
       "      <td>0.0</td>\n",
       "      <td>3896.0</td>\n",
       "      <td>364.0</td>\n",
       "      <td>426.0</td>\n",
       "      <td>463.0</td>\n",
       "    </tr>\n",
       "    <tr>\n",
       "      <th>836</th>\n",
       "      <td>AN</td>\n",
       "      <td>2020-04-04</td>\n",
       "      <td>8301.0</td>\n",
       "      <td>0.0</td>\n",
       "      <td>0.0</td>\n",
       "      <td>4107.0</td>\n",
       "      <td>474.0</td>\n",
       "      <td>470.0</td>\n",
       "      <td>665.0</td>\n",
       "    </tr>\n",
       "    <tr>\n",
       "      <th>855</th>\n",
       "      <td>AN</td>\n",
       "      <td>2020-04-05</td>\n",
       "      <td>8581.0</td>\n",
       "      <td>0.0</td>\n",
       "      <td>0.0</td>\n",
       "      <td>4227.0</td>\n",
       "      <td>489.0</td>\n",
       "      <td>491.0</td>\n",
       "      <td>798.0</td>\n",
       "    </tr>\n",
       "    <tr>\n",
       "      <th>874</th>\n",
       "      <td>AN</td>\n",
       "      <td>2020-04-06</td>\n",
       "      <td>8767.0</td>\n",
       "      <td>0.0</td>\n",
       "      <td>0.0</td>\n",
       "      <td>4335.0</td>\n",
       "      <td>499.0</td>\n",
       "      <td>528.0</td>\n",
       "      <td>900.0</td>\n",
       "    </tr>\n",
       "    <tr>\n",
       "      <th>893</th>\n",
       "      <td>AN</td>\n",
       "      <td>2020-04-07</td>\n",
       "      <td>8997.0</td>\n",
       "      <td>0.0</td>\n",
       "      <td>0.0</td>\n",
       "      <td>4463.0</td>\n",
       "      <td>520.0</td>\n",
       "      <td>605.0</td>\n",
       "      <td>1041.0</td>\n",
       "    </tr>\n",
       "    <tr>\n",
       "      <th>912</th>\n",
       "      <td>AN</td>\n",
       "      <td>2020-04-08</td>\n",
       "      <td>9261.0</td>\n",
       "      <td>0.0</td>\n",
       "      <td>0.0</td>\n",
       "      <td>4599.0</td>\n",
       "      <td>538.0</td>\n",
       "      <td>652.0</td>\n",
       "      <td>1193.0</td>\n",
       "    </tr>\n",
       "    <tr>\n",
       "      <th>931</th>\n",
       "      <td>AN</td>\n",
       "      <td>2020-04-09</td>\n",
       "      <td>9510.0</td>\n",
       "      <td>0.0</td>\n",
       "      <td>0.0</td>\n",
       "      <td>4715.0</td>\n",
       "      <td>582.0</td>\n",
       "      <td>691.0</td>\n",
       "      <td>1437.0</td>\n",
       "    </tr>\n",
       "    <tr>\n",
       "      <th>950</th>\n",
       "      <td>AN</td>\n",
       "      <td>2020-04-10</td>\n",
       "      <td>9712.0</td>\n",
       "      <td>0.0</td>\n",
       "      <td>0.0</td>\n",
       "      <td>4808.0</td>\n",
       "      <td>602.0</td>\n",
       "      <td>737.0</td>\n",
       "      <td>1630.0</td>\n",
       "    </tr>\n",
       "    <tr>\n",
       "      <th>969</th>\n",
       "      <td>AN</td>\n",
       "      <td>2020-04-11</td>\n",
       "      <td>10006.0</td>\n",
       "      <td>0.0</td>\n",
       "      <td>0.0</td>\n",
       "      <td>4950.0</td>\n",
       "      <td>619.0</td>\n",
       "      <td>799.0</td>\n",
       "      <td>1838.0</td>\n",
       "    </tr>\n",
       "    <tr>\n",
       "      <th>988</th>\n",
       "      <td>AN</td>\n",
       "      <td>2020-04-12</td>\n",
       "      <td>10095.0</td>\n",
       "      <td>0.0</td>\n",
       "      <td>0.0</td>\n",
       "      <td>4993.0</td>\n",
       "      <td>621.0</td>\n",
       "      <td>815.0</td>\n",
       "      <td>1967.0</td>\n",
       "    </tr>\n",
       "    <tr>\n",
       "      <th>1007</th>\n",
       "      <td>AN</td>\n",
       "      <td>2020-04-13</td>\n",
       "      <td>10203.0</td>\n",
       "      <td>0.0</td>\n",
       "      <td>0.0</td>\n",
       "      <td>5054.0</td>\n",
       "      <td>631.0</td>\n",
       "      <td>836.0</td>\n",
       "      <td>2032.0</td>\n",
       "    </tr>\n",
       "    <tr>\n",
       "      <th>1026</th>\n",
       "      <td>AN</td>\n",
       "      <td>2020-04-14</td>\n",
       "      <td>10426.0</td>\n",
       "      <td>0.0</td>\n",
       "      <td>0.0</td>\n",
       "      <td>5147.0</td>\n",
       "      <td>665.0</td>\n",
       "      <td>865.0</td>\n",
       "      <td>2224.0</td>\n",
       "    </tr>\n",
       "    <tr>\n",
       "      <th>1045</th>\n",
       "      <td>AN</td>\n",
       "      <td>2020-04-15</td>\n",
       "      <td>0.0</td>\n",
       "      <td>10592.0</td>\n",
       "      <td>215.0</td>\n",
       "      <td>5226.0</td>\n",
       "      <td>671.0</td>\n",
       "      <td>912.0</td>\n",
       "      <td>2634.0</td>\n",
       "    </tr>\n",
       "    <tr>\n",
       "      <th>1064</th>\n",
       "      <td>AN</td>\n",
       "      <td>2020-04-16</td>\n",
       "      <td>0.0</td>\n",
       "      <td>10672.0</td>\n",
       "      <td>381.0</td>\n",
       "      <td>5298.0</td>\n",
       "      <td>675.0</td>\n",
       "      <td>940.0</td>\n",
       "      <td>2790.0</td>\n",
       "    </tr>\n",
       "    <tr>\n",
       "      <th>1083</th>\n",
       "      <td>AN</td>\n",
       "      <td>2020-04-17</td>\n",
       "      <td>0.0</td>\n",
       "      <td>10772.0</td>\n",
       "      <td>432.0</td>\n",
       "      <td>5341.0</td>\n",
       "      <td>677.0</td>\n",
       "      <td>967.0</td>\n",
       "      <td>2948.0</td>\n",
       "    </tr>\n",
       "    <tr>\n",
       "      <th>1102</th>\n",
       "      <td>AN</td>\n",
       "      <td>2020-04-18</td>\n",
       "      <td>0.0</td>\n",
       "      <td>10936.0</td>\n",
       "      <td>489.0</td>\n",
       "      <td>5424.0</td>\n",
       "      <td>687.0</td>\n",
       "      <td>993.0</td>\n",
       "      <td>3116.0</td>\n",
       "    </tr>\n",
       "    <tr>\n",
       "      <th>1121</th>\n",
       "      <td>AN</td>\n",
       "      <td>2020-04-19</td>\n",
       "      <td>0.0</td>\n",
       "      <td>11030.0</td>\n",
       "      <td>525.0</td>\n",
       "      <td>5473.0</td>\n",
       "      <td>690.0</td>\n",
       "      <td>1013.0</td>\n",
       "      <td>3229.0</td>\n",
       "    </tr>\n",
       "    <tr>\n",
       "      <th>1140</th>\n",
       "      <td>AN</td>\n",
       "      <td>2020-04-20</td>\n",
       "      <td>0.0</td>\n",
       "      <td>11139.0</td>\n",
       "      <td>550.0</td>\n",
       "      <td>5509.0</td>\n",
       "      <td>692.0</td>\n",
       "      <td>1017.0</td>\n",
       "      <td>3411.0</td>\n",
       "    </tr>\n",
       "    <tr>\n",
       "      <th>1159</th>\n",
       "      <td>AN</td>\n",
       "      <td>2020-04-21</td>\n",
       "      <td>0.0</td>\n",
       "      <td>11270.0</td>\n",
       "      <td>651.0</td>\n",
       "      <td>5565.0</td>\n",
       "      <td>696.0</td>\n",
       "      <td>1050.0</td>\n",
       "      <td>3569.0</td>\n",
       "    </tr>\n",
       "    <tr>\n",
       "      <th>1178</th>\n",
       "      <td>AN</td>\n",
       "      <td>2020-04-22</td>\n",
       "      <td>0.0</td>\n",
       "      <td>11403.0</td>\n",
       "      <td>834.0</td>\n",
       "      <td>5616.0</td>\n",
       "      <td>702.0</td>\n",
       "      <td>1079.0</td>\n",
       "      <td>3847.0</td>\n",
       "    </tr>\n",
       "    <tr>\n",
       "      <th>1197</th>\n",
       "      <td>AN</td>\n",
       "      <td>2020-04-23</td>\n",
       "      <td>0.0</td>\n",
       "      <td>11536.0</td>\n",
       "      <td>959.0</td>\n",
       "      <td>5675.0</td>\n",
       "      <td>714.0</td>\n",
       "      <td>1107.0</td>\n",
       "      <td>3992.0</td>\n",
       "    </tr>\n",
       "    <tr>\n",
       "      <th>1216</th>\n",
       "      <td>AN</td>\n",
       "      <td>2020-04-24</td>\n",
       "      <td>0.0</td>\n",
       "      <td>11703.0</td>\n",
       "      <td>1121.0</td>\n",
       "      <td>5715.0</td>\n",
       "      <td>717.0</td>\n",
       "      <td>1131.0</td>\n",
       "      <td>4295.0</td>\n",
       "    </tr>\n",
       "  </tbody>\n",
       "</table>\n",
       "<p>65 rows × 9 columns</p>\n",
       "</div>"
      ],
      "text/plain": [
       "     CCAA      FECHA    CASOS     PCR+  TestAc+  Hospitalizados    UCI  \\\n",
       "0      AN 2020-02-20      0.0      0.0      0.0             0.0    0.0   \n",
       "19     AN 2020-02-21      0.0      0.0      0.0             0.0    0.0   \n",
       "38     AN 2020-02-22      0.0      0.0      0.0             0.0    0.0   \n",
       "57     AN 2020-02-23      0.0      0.0      0.0             0.0    0.0   \n",
       "76     AN 2020-02-24      0.0      0.0      0.0             0.0    0.0   \n",
       "95     AN 2020-02-25      0.0      0.0      0.0             0.0    0.0   \n",
       "114    AN 2020-02-26      1.0      0.0      0.0             0.0    0.0   \n",
       "133    AN 2020-02-27      6.0      0.0      0.0             0.0    0.0   \n",
       "152    AN 2020-02-28      8.0      0.0      0.0             0.0    0.0   \n",
       "171    AN 2020-02-29     12.0      0.0      0.0             0.0    0.0   \n",
       "190    AN 2020-03-01     12.0      0.0      0.0             0.0    0.0   \n",
       "209    AN 2020-03-02     12.0      0.0      0.0             0.0    0.0   \n",
       "228    AN 2020-03-03     12.0      0.0      0.0             0.0    0.0   \n",
       "247    AN 2020-03-04     12.0      0.0      0.0             0.0    0.0   \n",
       "266    AN 2020-03-05     21.0      0.0      0.0             0.0    0.0   \n",
       "285    AN 2020-03-06     27.0      0.0      0.0             0.0    0.0   \n",
       "304    AN 2020-03-07     34.0      0.0      0.0             0.0    0.0   \n",
       "323    AN 2020-03-08     54.0      0.0      0.0             0.0    1.0   \n",
       "342    AN 2020-03-09     71.0      0.0      0.0             0.0    1.0   \n",
       "361    AN 2020-03-10     90.0      0.0      0.0            32.0    3.0   \n",
       "380    AN 2020-03-11    115.0      0.0      0.0            50.0    4.0   \n",
       "399    AN 2020-03-12    219.0      0.0      0.0            92.0    8.0   \n",
       "418    AN 2020-03-13    269.0      0.0      0.0            92.0    8.0   \n",
       "437    AN 2020-03-14    437.0      0.0      0.0            92.0    8.0   \n",
       "456    AN 2020-03-15    554.0      0.0      0.0           197.0   11.0   \n",
       "475    AN 2020-03-16    683.0      0.0      0.0           229.0   13.0   \n",
       "494    AN 2020-03-17    859.0      0.0      0.0           319.0   21.0   \n",
       "513    AN 2020-03-18   1008.0      0.0      0.0           384.0   25.0   \n",
       "532    AN 2020-03-19   1287.0      0.0      0.0           501.0   38.0   \n",
       "551    AN 2020-03-20   1515.0      0.0      0.0           605.0   53.0   \n",
       "...   ...        ...      ...      ...      ...             ...    ...   \n",
       "665    AN 2020-03-26   3793.0      0.0      0.0          1843.0  148.0   \n",
       "684    AN 2020-03-27   4277.0      0.0      0.0          2106.0  172.0   \n",
       "703    AN 2020-03-28   4682.0      0.0      0.0          2294.0  201.0   \n",
       "722    AN 2020-03-29   5405.0      0.0      0.0          2671.0  216.0   \n",
       "741    AN 2020-03-30   5818.0      0.0      0.0          2867.0  235.0   \n",
       "760    AN 2020-03-31   6392.0      0.0      0.0          3147.0  260.0   \n",
       "779    AN 2020-04-01   6972.0      0.0      0.0          3444.0  280.0   \n",
       "798    AN 2020-04-02   7374.0      0.0      0.0          3673.0  338.0   \n",
       "817    AN 2020-04-03   7869.0      0.0      0.0          3896.0  364.0   \n",
       "836    AN 2020-04-04   8301.0      0.0      0.0          4107.0  474.0   \n",
       "855    AN 2020-04-05   8581.0      0.0      0.0          4227.0  489.0   \n",
       "874    AN 2020-04-06   8767.0      0.0      0.0          4335.0  499.0   \n",
       "893    AN 2020-04-07   8997.0      0.0      0.0          4463.0  520.0   \n",
       "912    AN 2020-04-08   9261.0      0.0      0.0          4599.0  538.0   \n",
       "931    AN 2020-04-09   9510.0      0.0      0.0          4715.0  582.0   \n",
       "950    AN 2020-04-10   9712.0      0.0      0.0          4808.0  602.0   \n",
       "969    AN 2020-04-11  10006.0      0.0      0.0          4950.0  619.0   \n",
       "988    AN 2020-04-12  10095.0      0.0      0.0          4993.0  621.0   \n",
       "1007   AN 2020-04-13  10203.0      0.0      0.0          5054.0  631.0   \n",
       "1026   AN 2020-04-14  10426.0      0.0      0.0          5147.0  665.0   \n",
       "1045   AN 2020-04-15      0.0  10592.0    215.0          5226.0  671.0   \n",
       "1064   AN 2020-04-16      0.0  10672.0    381.0          5298.0  675.0   \n",
       "1083   AN 2020-04-17      0.0  10772.0    432.0          5341.0  677.0   \n",
       "1102   AN 2020-04-18      0.0  10936.0    489.0          5424.0  687.0   \n",
       "1121   AN 2020-04-19      0.0  11030.0    525.0          5473.0  690.0   \n",
       "1140   AN 2020-04-20      0.0  11139.0    550.0          5509.0  692.0   \n",
       "1159   AN 2020-04-21      0.0  11270.0    651.0          5565.0  696.0   \n",
       "1178   AN 2020-04-22      0.0  11403.0    834.0          5616.0  702.0   \n",
       "1197   AN 2020-04-23      0.0  11536.0    959.0          5675.0  714.0   \n",
       "1216   AN 2020-04-24      0.0  11703.0   1121.0          5715.0  717.0   \n",
       "\n",
       "      Fallecidos  Recuperados  \n",
       "0            0.0          0.0  \n",
       "19           0.0          0.0  \n",
       "38           0.0          0.0  \n",
       "57           0.0          0.0  \n",
       "76           0.0          0.0  \n",
       "95           0.0          0.0  \n",
       "114          0.0          0.0  \n",
       "133          0.0          0.0  \n",
       "152          0.0          0.0  \n",
       "171          0.0          0.0  \n",
       "190          0.0          0.0  \n",
       "209          0.0          0.0  \n",
       "228          0.0          0.0  \n",
       "247          0.0          0.0  \n",
       "266          0.0          0.0  \n",
       "285          0.0          0.0  \n",
       "304          0.0          0.0  \n",
       "323          0.0         11.0  \n",
       "342          0.0         11.0  \n",
       "361          0.0         11.0  \n",
       "380          0.0         11.0  \n",
       "399          0.0          0.0  \n",
       "418          2.0          0.0  \n",
       "437          6.0          0.0  \n",
       "456          7.0          0.0  \n",
       "475         11.0          0.0  \n",
       "494         19.0         38.0  \n",
       "513         23.0         33.0  \n",
       "532         30.0         36.0  \n",
       "551         40.0         36.0  \n",
       "...          ...          ...  \n",
       "665        144.0         92.0  \n",
       "684        175.0        139.0  \n",
       "703        207.0        148.0  \n",
       "722        236.0        155.0  \n",
       "741        248.0        160.0  \n",
       "760        308.0        182.0  \n",
       "779        343.0        228.0  \n",
       "798        376.0        258.0  \n",
       "817        426.0        463.0  \n",
       "836        470.0        665.0  \n",
       "855        491.0        798.0  \n",
       "874        528.0        900.0  \n",
       "893        605.0       1041.0  \n",
       "912        652.0       1193.0  \n",
       "931        691.0       1437.0  \n",
       "950        737.0       1630.0  \n",
       "969        799.0       1838.0  \n",
       "988        815.0       1967.0  \n",
       "1007       836.0       2032.0  \n",
       "1026       865.0       2224.0  \n",
       "1045       912.0       2634.0  \n",
       "1064       940.0       2790.0  \n",
       "1083       967.0       2948.0  \n",
       "1102       993.0       3116.0  \n",
       "1121      1013.0       3229.0  \n",
       "1140      1017.0       3411.0  \n",
       "1159      1050.0       3569.0  \n",
       "1178      1079.0       3847.0  \n",
       "1197      1107.0       3992.0  \n",
       "1216      1131.0       4295.0  \n",
       "\n",
       "[65 rows x 9 columns]"
      ]
     },
     "execution_count": 31,
     "metadata": {},
     "output_type": "execute_result"
    }
   ],
   "source": [
    "df_regiones[\"AN\"]"
   ]
  },
  {
   "cell_type": "markdown",
   "metadata": {},
   "source": [
    "### Evolución de Casos por región"
   ]
  },
  {
   "cell_type": "code",
   "execution_count": 41,
   "metadata": {},
   "outputs": [],
   "source": [
    "\n",
    "traces=[]\n",
    "a=0\n",
    "for i in range(0,len(regiones)):\n",
    "     \n",
    "    trace = go.Scatter(\n",
    "                    x = df_regiones[list(df_regiones.keys())[i]][\"FECHA\"],\n",
    "                    y = df_regiones[list(df_regiones.keys())[i]][\"CASOS\"],\n",
    "                    mode = \"lines+markers\",\n",
    "                    name = list(df_regiones.keys())[i],\n",
    "                    marker = dict(color = all_palettes[\"Category20\"][20][i])\n",
    "                    )\n",
    "    traces.append(trace)\n",
    "layout = dict(title = 'Evolución de los Casos por Región',\n",
    "              xaxis= dict(title= 'Fecha'),\n",
    "              yaxis= dict(title= 'Número de Casos',ticklen= 5))\n",
    "             \n",
    "fig = go.Figure(data = traces, layout = layout)\n",
    "fig.write_html(\"C:\\\\Users\\\\usuario\\\\Desktop\\\\Universidad\\\\8vo Semestre (Intercambio)\\\\Ludwing\\\\casos.html\")"
   ]
  },
  {
   "cell_type": "markdown",
   "metadata": {},
   "source": [
    "### Evolución de Hospitalizaciones\n"
   ]
  },
  {
   "cell_type": "code",
   "execution_count": 40,
   "metadata": {},
   "outputs": [],
   "source": [
    "\n",
    "traces=[]\n",
    "a=0\n",
    "for i in range(0,len(regiones)):\n",
    "     \n",
    "    trace = go.Scatter(\n",
    "                    x = df_regiones[list(df_regiones.keys())[i]][\"FECHA\"],\n",
    "                    y = df_regiones[list(df_regiones.keys())[i]][\"Hospitalizados\"],\n",
    "                    mode = \"lines+markers\",\n",
    "                    name = list(df_regiones.keys())[i],\n",
    "                    marker = dict(color = all_palettes[\"Category20\"][20][i])\n",
    "                    )\n",
    "    traces.append(trace)\n",
    "layout = dict(title = 'Evolución del Número de Hospitalizaciones por Región',\n",
    "              xaxis= dict(title= 'Fecha'),\n",
    "              yaxis= dict(title= 'Hospitalizaciones',ticklen= 5))\n",
    "             \n",
    "fig = go.Figure(data = traces, layout = layout)\n",
    "fig.write_html(\"C:\\\\Users\\\\usuario\\\\Desktop\\\\Universidad\\\\8vo Semestre (Intercambio)\\\\Ludwing\\\\hospitalizaciones.html\")"
   ]
  },
  {
   "cell_type": "markdown",
   "metadata": {},
   "source": [
    "### Evolución de Fallecidos\n"
   ]
  },
  {
   "cell_type": "code",
   "execution_count": 42,
   "metadata": {},
   "outputs": [],
   "source": [
    "\n",
    "traces=[]\n",
    "a=0\n",
    "for i in range(0,len(regiones)):\n",
    "     \n",
    "    trace = go.Scatter(\n",
    "                    x = df_regiones[list(df_regiones.keys())[i]][\"FECHA\"],\n",
    "                    y = df_regiones[list(df_regiones.keys())[i]][\"Fallecidos\"],\n",
    "                    mode = \"lines+markers\",\n",
    "                    name = list(df_regiones.keys())[i],\n",
    "                    marker = dict(color = all_palettes[\"Category20\"][20][i])\n",
    "                    )\n",
    "    traces.append(trace)\n",
    "layout = dict(title = 'Evolución del Número de Fallecidos por región',\n",
    "              xaxis= dict(title= 'Fecha'),\n",
    "              yaxis= dict(title= 'Número de decesos',ticklen= 5))\n",
    "             \n",
    "fig = go.Figure(data = traces, layout = layout)\n",
    "fig.write_html(\"C:\\\\Users\\\\usuario\\\\Desktop\\\\Universidad\\\\8vo Semestre (Intercambio)\\\\Ludwing\\\\decesos.html\")"
   ]
  },
  {
   "cell_type": "markdown",
   "metadata": {},
   "source": [
    "### Evolución de Recuperados"
   ]
  },
  {
   "cell_type": "code",
   "execution_count": 43,
   "metadata": {},
   "outputs": [],
   "source": [
    "\n",
    "traces=[]\n",
    "a=0\n",
    "for i in range(0,len(regiones)):\n",
    "     \n",
    "    trace = go.Scatter(\n",
    "                    x = df_regiones[list(df_regiones.keys())[i]][\"FECHA\"],\n",
    "                    y = df_regiones[list(df_regiones.keys())[i]][\"Recuperados\"],\n",
    "                    mode = \"lines+markers\",\n",
    "                    name = list(df_regiones.keys())[i],\n",
    "                    marker = dict(color = all_palettes[\"Category20\"][20][i])\n",
    "                    )\n",
    "    traces.append(trace)\n",
    "layout = dict(title = 'Evolución del Número de Pacientes Recuperados por región',\n",
    "              xaxis= dict(title= 'Fecha'),\n",
    "              yaxis= dict(title= 'Número de Pacientes Recuperados',ticklen= 5))\n",
    "             \n",
    "fig = go.Figure(data = traces, layout = layout)\n",
    "fig.write_html(\"C:\\\\Users\\\\usuario\\\\Desktop\\\\Universidad\\\\8vo Semestre (Intercambio)\\\\Ludwing\\\\recuperados.html\")"
   ]
  },
  {
   "cell_type": "code",
   "execution_count": 24,
   "metadata": {},
   "outputs": [],
   "source": [
    "import plotly.express as px\n",
    "# Set notebook mode to work in offline\n",
    "import plotly.offline as pyo\n",
    "import matplotlib.pyplot as plt\n",
    "import plotly.graph_objs as go\n",
    "from plotly.offline import init_notebook_mode, iplot"
   ]
  },
  {
   "cell_type": "code",
   "execution_count": 25,
   "metadata": {},
   "outputs": [
    {
     "data": {
      "application/vnd.plotly.v1+json": {
       "config": {
        "plotlyServerURL": "https://plot.ly"
       },
       "data": [
        {
         "hovertemplate": "FECHA=%{x}<br>CASOS=%{y}<extra></extra>",
         "legendgroup": "",
         "line": {
          "color": "#636efa",
          "dash": "solid"
         },
         "mode": "lines",
         "name": "",
         "showlegend": false,
         "type": "scatter",
         "x": [
          "2020-02-20T00:00:00",
          "2020-02-21T00:00:00",
          "2020-02-22T00:00:00",
          "2020-02-23T00:00:00",
          "2020-02-24T00:00:00",
          "2020-02-25T00:00:00",
          "2020-02-26T00:00:00",
          "2020-02-27T00:00:00",
          "2020-02-28T00:00:00",
          "2020-02-29T00:00:00",
          "2020-03-01T00:00:00",
          "2020-03-02T00:00:00",
          "2020-03-03T00:00:00",
          "2020-03-04T00:00:00",
          "2020-03-05T00:00:00",
          "2020-03-06T00:00:00",
          "2020-03-07T00:00:00",
          "2020-03-08T00:00:00",
          "2020-03-09T00:00:00",
          "2020-03-10T00:00:00",
          "2020-03-11T00:00:00",
          "2020-03-12T00:00:00",
          "2020-03-13T00:00:00",
          "2020-03-14T00:00:00",
          "2020-03-15T00:00:00",
          "2020-03-16T00:00:00",
          "2020-03-17T00:00:00",
          "2020-03-18T00:00:00",
          "2020-03-19T00:00:00",
          "2020-03-20T00:00:00",
          "2020-03-21T00:00:00",
          "2020-03-22T00:00:00",
          "2020-03-23T00:00:00",
          "2020-03-24T00:00:00",
          "2020-03-25T00:00:00",
          "2020-03-26T00:00:00",
          "2020-03-27T00:00:00",
          "2020-03-28T00:00:00",
          "2020-03-29T00:00:00",
          "2020-03-30T00:00:00",
          "2020-03-31T00:00:00",
          "2020-04-01T00:00:00",
          "2020-04-02T00:00:00",
          "2020-04-03T00:00:00",
          "2020-04-04T00:00:00",
          "2020-04-05T00:00:00",
          "2020-04-06T00:00:00",
          "2020-04-07T00:00:00",
          "2020-04-08T00:00:00",
          "2020-04-09T00:00:00",
          "2020-04-10T00:00:00",
          "2020-04-11T00:00:00",
          "2020-04-12T00:00:00",
          "2020-04-13T00:00:00",
          "2020-04-14T00:00:00",
          "2020-04-15T00:00:00",
          "2020-04-16T00:00:00",
          "2020-04-17T00:00:00",
          "2020-04-18T00:00:00",
          "2020-04-19T00:00:00",
          "2020-04-20T00:00:00",
          "2020-04-21T00:00:00",
          "2020-04-22T00:00:00",
          "2020-04-23T00:00:00",
          "2020-04-24T00:00:00"
         ],
         "xaxis": "x",
         "y": [
          0,
          0,
          0,
          0,
          0,
          0,
          1,
          6,
          8,
          12,
          12,
          12,
          12,
          12,
          21,
          27,
          34,
          54,
          71,
          90,
          115,
          219,
          269,
          437,
          554,
          683,
          859,
          1008,
          1287,
          1515,
          1725,
          1961,
          2471,
          3010,
          3406,
          3793,
          4277,
          4682,
          5405,
          5818,
          6392,
          6972,
          7374,
          7869,
          8301,
          8581,
          8767,
          8997,
          9261,
          9510,
          9712,
          10006,
          10095,
          10203,
          10426,
          0,
          0,
          0,
          0,
          0,
          0,
          0,
          0,
          0,
          0
         ],
         "yaxis": "y"
        }
       ],
       "layout": {
        "legend": {
         "tracegroupgap": 0
        },
        "margin": {
         "t": 60
        },
        "template": {
         "data": {
          "bar": [
           {
            "error_x": {
             "color": "#2a3f5f"
            },
            "error_y": {
             "color": "#2a3f5f"
            },
            "marker": {
             "line": {
              "color": "#E5ECF6",
              "width": 0.5
             }
            },
            "type": "bar"
           }
          ],
          "barpolar": [
           {
            "marker": {
             "line": {
              "color": "#E5ECF6",
              "width": 0.5
             }
            },
            "type": "barpolar"
           }
          ],
          "carpet": [
           {
            "aaxis": {
             "endlinecolor": "#2a3f5f",
             "gridcolor": "white",
             "linecolor": "white",
             "minorgridcolor": "white",
             "startlinecolor": "#2a3f5f"
            },
            "baxis": {
             "endlinecolor": "#2a3f5f",
             "gridcolor": "white",
             "linecolor": "white",
             "minorgridcolor": "white",
             "startlinecolor": "#2a3f5f"
            },
            "type": "carpet"
           }
          ],
          "choropleth": [
           {
            "colorbar": {
             "outlinewidth": 0,
             "ticks": ""
            },
            "type": "choropleth"
           }
          ],
          "contour": [
           {
            "colorbar": {
             "outlinewidth": 0,
             "ticks": ""
            },
            "colorscale": [
             [
              0,
              "#0d0887"
             ],
             [
              0.1111111111111111,
              "#46039f"
             ],
             [
              0.2222222222222222,
              "#7201a8"
             ],
             [
              0.3333333333333333,
              "#9c179e"
             ],
             [
              0.4444444444444444,
              "#bd3786"
             ],
             [
              0.5555555555555556,
              "#d8576b"
             ],
             [
              0.6666666666666666,
              "#ed7953"
             ],
             [
              0.7777777777777778,
              "#fb9f3a"
             ],
             [
              0.8888888888888888,
              "#fdca26"
             ],
             [
              1,
              "#f0f921"
             ]
            ],
            "type": "contour"
           }
          ],
          "contourcarpet": [
           {
            "colorbar": {
             "outlinewidth": 0,
             "ticks": ""
            },
            "type": "contourcarpet"
           }
          ],
          "heatmap": [
           {
            "colorbar": {
             "outlinewidth": 0,
             "ticks": ""
            },
            "colorscale": [
             [
              0,
              "#0d0887"
             ],
             [
              0.1111111111111111,
              "#46039f"
             ],
             [
              0.2222222222222222,
              "#7201a8"
             ],
             [
              0.3333333333333333,
              "#9c179e"
             ],
             [
              0.4444444444444444,
              "#bd3786"
             ],
             [
              0.5555555555555556,
              "#d8576b"
             ],
             [
              0.6666666666666666,
              "#ed7953"
             ],
             [
              0.7777777777777778,
              "#fb9f3a"
             ],
             [
              0.8888888888888888,
              "#fdca26"
             ],
             [
              1,
              "#f0f921"
             ]
            ],
            "type": "heatmap"
           }
          ],
          "heatmapgl": [
           {
            "colorbar": {
             "outlinewidth": 0,
             "ticks": ""
            },
            "colorscale": [
             [
              0,
              "#0d0887"
             ],
             [
              0.1111111111111111,
              "#46039f"
             ],
             [
              0.2222222222222222,
              "#7201a8"
             ],
             [
              0.3333333333333333,
              "#9c179e"
             ],
             [
              0.4444444444444444,
              "#bd3786"
             ],
             [
              0.5555555555555556,
              "#d8576b"
             ],
             [
              0.6666666666666666,
              "#ed7953"
             ],
             [
              0.7777777777777778,
              "#fb9f3a"
             ],
             [
              0.8888888888888888,
              "#fdca26"
             ],
             [
              1,
              "#f0f921"
             ]
            ],
            "type": "heatmapgl"
           }
          ],
          "histogram": [
           {
            "marker": {
             "colorbar": {
              "outlinewidth": 0,
              "ticks": ""
             }
            },
            "type": "histogram"
           }
          ],
          "histogram2d": [
           {
            "colorbar": {
             "outlinewidth": 0,
             "ticks": ""
            },
            "colorscale": [
             [
              0,
              "#0d0887"
             ],
             [
              0.1111111111111111,
              "#46039f"
             ],
             [
              0.2222222222222222,
              "#7201a8"
             ],
             [
              0.3333333333333333,
              "#9c179e"
             ],
             [
              0.4444444444444444,
              "#bd3786"
             ],
             [
              0.5555555555555556,
              "#d8576b"
             ],
             [
              0.6666666666666666,
              "#ed7953"
             ],
             [
              0.7777777777777778,
              "#fb9f3a"
             ],
             [
              0.8888888888888888,
              "#fdca26"
             ],
             [
              1,
              "#f0f921"
             ]
            ],
            "type": "histogram2d"
           }
          ],
          "histogram2dcontour": [
           {
            "colorbar": {
             "outlinewidth": 0,
             "ticks": ""
            },
            "colorscale": [
             [
              0,
              "#0d0887"
             ],
             [
              0.1111111111111111,
              "#46039f"
             ],
             [
              0.2222222222222222,
              "#7201a8"
             ],
             [
              0.3333333333333333,
              "#9c179e"
             ],
             [
              0.4444444444444444,
              "#bd3786"
             ],
             [
              0.5555555555555556,
              "#d8576b"
             ],
             [
              0.6666666666666666,
              "#ed7953"
             ],
             [
              0.7777777777777778,
              "#fb9f3a"
             ],
             [
              0.8888888888888888,
              "#fdca26"
             ],
             [
              1,
              "#f0f921"
             ]
            ],
            "type": "histogram2dcontour"
           }
          ],
          "mesh3d": [
           {
            "colorbar": {
             "outlinewidth": 0,
             "ticks": ""
            },
            "type": "mesh3d"
           }
          ],
          "parcoords": [
           {
            "line": {
             "colorbar": {
              "outlinewidth": 0,
              "ticks": ""
             }
            },
            "type": "parcoords"
           }
          ],
          "pie": [
           {
            "automargin": true,
            "type": "pie"
           }
          ],
          "scatter": [
           {
            "marker": {
             "colorbar": {
              "outlinewidth": 0,
              "ticks": ""
             }
            },
            "type": "scatter"
           }
          ],
          "scatter3d": [
           {
            "line": {
             "colorbar": {
              "outlinewidth": 0,
              "ticks": ""
             }
            },
            "marker": {
             "colorbar": {
              "outlinewidth": 0,
              "ticks": ""
             }
            },
            "type": "scatter3d"
           }
          ],
          "scattercarpet": [
           {
            "marker": {
             "colorbar": {
              "outlinewidth": 0,
              "ticks": ""
             }
            },
            "type": "scattercarpet"
           }
          ],
          "scattergeo": [
           {
            "marker": {
             "colorbar": {
              "outlinewidth": 0,
              "ticks": ""
             }
            },
            "type": "scattergeo"
           }
          ],
          "scattergl": [
           {
            "marker": {
             "colorbar": {
              "outlinewidth": 0,
              "ticks": ""
             }
            },
            "type": "scattergl"
           }
          ],
          "scattermapbox": [
           {
            "marker": {
             "colorbar": {
              "outlinewidth": 0,
              "ticks": ""
             }
            },
            "type": "scattermapbox"
           }
          ],
          "scatterpolar": [
           {
            "marker": {
             "colorbar": {
              "outlinewidth": 0,
              "ticks": ""
             }
            },
            "type": "scatterpolar"
           }
          ],
          "scatterpolargl": [
           {
            "marker": {
             "colorbar": {
              "outlinewidth": 0,
              "ticks": ""
             }
            },
            "type": "scatterpolargl"
           }
          ],
          "scatterternary": [
           {
            "marker": {
             "colorbar": {
              "outlinewidth": 0,
              "ticks": ""
             }
            },
            "type": "scatterternary"
           }
          ],
          "surface": [
           {
            "colorbar": {
             "outlinewidth": 0,
             "ticks": ""
            },
            "colorscale": [
             [
              0,
              "#0d0887"
             ],
             [
              0.1111111111111111,
              "#46039f"
             ],
             [
              0.2222222222222222,
              "#7201a8"
             ],
             [
              0.3333333333333333,
              "#9c179e"
             ],
             [
              0.4444444444444444,
              "#bd3786"
             ],
             [
              0.5555555555555556,
              "#d8576b"
             ],
             [
              0.6666666666666666,
              "#ed7953"
             ],
             [
              0.7777777777777778,
              "#fb9f3a"
             ],
             [
              0.8888888888888888,
              "#fdca26"
             ],
             [
              1,
              "#f0f921"
             ]
            ],
            "type": "surface"
           }
          ],
          "table": [
           {
            "cells": {
             "fill": {
              "color": "#EBF0F8"
             },
             "line": {
              "color": "white"
             }
            },
            "header": {
             "fill": {
              "color": "#C8D4E3"
             },
             "line": {
              "color": "white"
             }
            },
            "type": "table"
           }
          ]
         },
         "layout": {
          "annotationdefaults": {
           "arrowcolor": "#2a3f5f",
           "arrowhead": 0,
           "arrowwidth": 1
          },
          "coloraxis": {
           "colorbar": {
            "outlinewidth": 0,
            "ticks": ""
           }
          },
          "colorscale": {
           "diverging": [
            [
             0,
             "#8e0152"
            ],
            [
             0.1,
             "#c51b7d"
            ],
            [
             0.2,
             "#de77ae"
            ],
            [
             0.3,
             "#f1b6da"
            ],
            [
             0.4,
             "#fde0ef"
            ],
            [
             0.5,
             "#f7f7f7"
            ],
            [
             0.6,
             "#e6f5d0"
            ],
            [
             0.7,
             "#b8e186"
            ],
            [
             0.8,
             "#7fbc41"
            ],
            [
             0.9,
             "#4d9221"
            ],
            [
             1,
             "#276419"
            ]
           ],
           "sequential": [
            [
             0,
             "#0d0887"
            ],
            [
             0.1111111111111111,
             "#46039f"
            ],
            [
             0.2222222222222222,
             "#7201a8"
            ],
            [
             0.3333333333333333,
             "#9c179e"
            ],
            [
             0.4444444444444444,
             "#bd3786"
            ],
            [
             0.5555555555555556,
             "#d8576b"
            ],
            [
             0.6666666666666666,
             "#ed7953"
            ],
            [
             0.7777777777777778,
             "#fb9f3a"
            ],
            [
             0.8888888888888888,
             "#fdca26"
            ],
            [
             1,
             "#f0f921"
            ]
           ],
           "sequentialminus": [
            [
             0,
             "#0d0887"
            ],
            [
             0.1111111111111111,
             "#46039f"
            ],
            [
             0.2222222222222222,
             "#7201a8"
            ],
            [
             0.3333333333333333,
             "#9c179e"
            ],
            [
             0.4444444444444444,
             "#bd3786"
            ],
            [
             0.5555555555555556,
             "#d8576b"
            ],
            [
             0.6666666666666666,
             "#ed7953"
            ],
            [
             0.7777777777777778,
             "#fb9f3a"
            ],
            [
             0.8888888888888888,
             "#fdca26"
            ],
            [
             1,
             "#f0f921"
            ]
           ]
          },
          "colorway": [
           "#636efa",
           "#EF553B",
           "#00cc96",
           "#ab63fa",
           "#FFA15A",
           "#19d3f3",
           "#FF6692",
           "#B6E880",
           "#FF97FF",
           "#FECB52"
          ],
          "font": {
           "color": "#2a3f5f"
          },
          "geo": {
           "bgcolor": "white",
           "lakecolor": "white",
           "landcolor": "#E5ECF6",
           "showlakes": true,
           "showland": true,
           "subunitcolor": "white"
          },
          "hoverlabel": {
           "align": "left"
          },
          "hovermode": "closest",
          "mapbox": {
           "style": "light"
          },
          "paper_bgcolor": "white",
          "plot_bgcolor": "#E5ECF6",
          "polar": {
           "angularaxis": {
            "gridcolor": "white",
            "linecolor": "white",
            "ticks": ""
           },
           "bgcolor": "#E5ECF6",
           "radialaxis": {
            "gridcolor": "white",
            "linecolor": "white",
            "ticks": ""
           }
          },
          "scene": {
           "xaxis": {
            "backgroundcolor": "#E5ECF6",
            "gridcolor": "white",
            "gridwidth": 2,
            "linecolor": "white",
            "showbackground": true,
            "ticks": "",
            "zerolinecolor": "white"
           },
           "yaxis": {
            "backgroundcolor": "#E5ECF6",
            "gridcolor": "white",
            "gridwidth": 2,
            "linecolor": "white",
            "showbackground": true,
            "ticks": "",
            "zerolinecolor": "white"
           },
           "zaxis": {
            "backgroundcolor": "#E5ECF6",
            "gridcolor": "white",
            "gridwidth": 2,
            "linecolor": "white",
            "showbackground": true,
            "ticks": "",
            "zerolinecolor": "white"
           }
          },
          "shapedefaults": {
           "line": {
            "color": "#2a3f5f"
           }
          },
          "ternary": {
           "aaxis": {
            "gridcolor": "white",
            "linecolor": "white",
            "ticks": ""
           },
           "baxis": {
            "gridcolor": "white",
            "linecolor": "white",
            "ticks": ""
           },
           "bgcolor": "#E5ECF6",
           "caxis": {
            "gridcolor": "white",
            "linecolor": "white",
            "ticks": ""
           }
          },
          "title": {
           "x": 0.05
          },
          "xaxis": {
           "automargin": true,
           "gridcolor": "white",
           "linecolor": "white",
           "ticks": "",
           "title": {
            "standoff": 15
           },
           "zerolinecolor": "white",
           "zerolinewidth": 2
          },
          "yaxis": {
           "automargin": true,
           "gridcolor": "white",
           "linecolor": "white",
           "ticks": "",
           "title": {
            "standoff": 15
           },
           "zerolinecolor": "white",
           "zerolinewidth": 2
          }
         }
        },
        "xaxis": {
         "anchor": "y",
         "domain": [
          0,
          1
         ],
         "title": {
          "text": "FECHA"
         }
        },
        "yaxis": {
         "anchor": "x",
         "domain": [
          0,
          1
         ],
         "title": {
          "text": "CASOS"
         }
        }
       }
      },
      "text/html": [
       "<div>\n",
       "        \n",
       "        \n",
       "            <div id=\"fbfce546-bac4-4453-a4c3-53f066be05c4\" class=\"plotly-graph-div\" style=\"height:525px; width:100%;\"></div>\n",
       "            <script type=\"text/javascript\">\n",
       "                require([\"plotly\"], function(Plotly) {\n",
       "                    window.PLOTLYENV=window.PLOTLYENV || {};\n",
       "                    \n",
       "                if (document.getElementById(\"fbfce546-bac4-4453-a4c3-53f066be05c4\")) {\n",
       "                    Plotly.newPlot(\n",
       "                        'fbfce546-bac4-4453-a4c3-53f066be05c4',\n",
       "                        [{\"hovertemplate\": \"FECHA=%{x}<br>CASOS=%{y}<extra></extra>\", \"legendgroup\": \"\", \"line\": {\"color\": \"#636efa\", \"dash\": \"solid\"}, \"mode\": \"lines\", \"name\": \"\", \"showlegend\": false, \"type\": \"scatter\", \"x\": [\"2020-02-20T00:00:00\", \"2020-02-21T00:00:00\", \"2020-02-22T00:00:00\", \"2020-02-23T00:00:00\", \"2020-02-24T00:00:00\", \"2020-02-25T00:00:00\", \"2020-02-26T00:00:00\", \"2020-02-27T00:00:00\", \"2020-02-28T00:00:00\", \"2020-02-29T00:00:00\", \"2020-03-01T00:00:00\", \"2020-03-02T00:00:00\", \"2020-03-03T00:00:00\", \"2020-03-04T00:00:00\", \"2020-03-05T00:00:00\", \"2020-03-06T00:00:00\", \"2020-03-07T00:00:00\", \"2020-03-08T00:00:00\", \"2020-03-09T00:00:00\", \"2020-03-10T00:00:00\", \"2020-03-11T00:00:00\", \"2020-03-12T00:00:00\", \"2020-03-13T00:00:00\", \"2020-03-14T00:00:00\", \"2020-03-15T00:00:00\", \"2020-03-16T00:00:00\", \"2020-03-17T00:00:00\", \"2020-03-18T00:00:00\", \"2020-03-19T00:00:00\", \"2020-03-20T00:00:00\", \"2020-03-21T00:00:00\", \"2020-03-22T00:00:00\", \"2020-03-23T00:00:00\", \"2020-03-24T00:00:00\", \"2020-03-25T00:00:00\", \"2020-03-26T00:00:00\", \"2020-03-27T00:00:00\", \"2020-03-28T00:00:00\", \"2020-03-29T00:00:00\", \"2020-03-30T00:00:00\", \"2020-03-31T00:00:00\", \"2020-04-01T00:00:00\", \"2020-04-02T00:00:00\", \"2020-04-03T00:00:00\", \"2020-04-04T00:00:00\", \"2020-04-05T00:00:00\", \"2020-04-06T00:00:00\", \"2020-04-07T00:00:00\", \"2020-04-08T00:00:00\", \"2020-04-09T00:00:00\", \"2020-04-10T00:00:00\", \"2020-04-11T00:00:00\", \"2020-04-12T00:00:00\", \"2020-04-13T00:00:00\", \"2020-04-14T00:00:00\", \"2020-04-15T00:00:00\", \"2020-04-16T00:00:00\", \"2020-04-17T00:00:00\", \"2020-04-18T00:00:00\", \"2020-04-19T00:00:00\", \"2020-04-20T00:00:00\", \"2020-04-21T00:00:00\", \"2020-04-22T00:00:00\", \"2020-04-23T00:00:00\", \"2020-04-24T00:00:00\"], \"xaxis\": \"x\", \"y\": [0.0, 0.0, 0.0, 0.0, 0.0, 0.0, 1.0, 6.0, 8.0, 12.0, 12.0, 12.0, 12.0, 12.0, 21.0, 27.0, 34.0, 54.0, 71.0, 90.0, 115.0, 219.0, 269.0, 437.0, 554.0, 683.0, 859.0, 1008.0, 1287.0, 1515.0, 1725.0, 1961.0, 2471.0, 3010.0, 3406.0, 3793.0, 4277.0, 4682.0, 5405.0, 5818.0, 6392.0, 6972.0, 7374.0, 7869.0, 8301.0, 8581.0, 8767.0, 8997.0, 9261.0, 9510.0, 9712.0, 10006.0, 10095.0, 10203.0, 10426.0, 0.0, 0.0, 0.0, 0.0, 0.0, 0.0, 0.0, 0.0, 0.0, 0.0], \"yaxis\": \"y\"}],\n",
       "                        {\"legend\": {\"tracegroupgap\": 0}, \"margin\": {\"t\": 60}, \"template\": {\"data\": {\"bar\": [{\"error_x\": {\"color\": \"#2a3f5f\"}, \"error_y\": {\"color\": \"#2a3f5f\"}, \"marker\": {\"line\": {\"color\": \"#E5ECF6\", \"width\": 0.5}}, \"type\": \"bar\"}], \"barpolar\": [{\"marker\": {\"line\": {\"color\": \"#E5ECF6\", \"width\": 0.5}}, \"type\": \"barpolar\"}], \"carpet\": [{\"aaxis\": {\"endlinecolor\": \"#2a3f5f\", \"gridcolor\": \"white\", \"linecolor\": \"white\", \"minorgridcolor\": \"white\", \"startlinecolor\": \"#2a3f5f\"}, \"baxis\": {\"endlinecolor\": \"#2a3f5f\", \"gridcolor\": \"white\", \"linecolor\": \"white\", \"minorgridcolor\": \"white\", \"startlinecolor\": \"#2a3f5f\"}, \"type\": \"carpet\"}], \"choropleth\": [{\"colorbar\": {\"outlinewidth\": 0, \"ticks\": \"\"}, \"type\": \"choropleth\"}], \"contour\": [{\"colorbar\": {\"outlinewidth\": 0, \"ticks\": \"\"}, \"colorscale\": [[0.0, \"#0d0887\"], [0.1111111111111111, \"#46039f\"], [0.2222222222222222, \"#7201a8\"], [0.3333333333333333, \"#9c179e\"], [0.4444444444444444, \"#bd3786\"], [0.5555555555555556, \"#d8576b\"], [0.6666666666666666, \"#ed7953\"], [0.7777777777777778, \"#fb9f3a\"], [0.8888888888888888, \"#fdca26\"], [1.0, \"#f0f921\"]], \"type\": \"contour\"}], \"contourcarpet\": [{\"colorbar\": {\"outlinewidth\": 0, \"ticks\": \"\"}, \"type\": \"contourcarpet\"}], \"heatmap\": [{\"colorbar\": {\"outlinewidth\": 0, \"ticks\": \"\"}, \"colorscale\": [[0.0, \"#0d0887\"], [0.1111111111111111, \"#46039f\"], [0.2222222222222222, \"#7201a8\"], [0.3333333333333333, \"#9c179e\"], [0.4444444444444444, \"#bd3786\"], [0.5555555555555556, \"#d8576b\"], [0.6666666666666666, \"#ed7953\"], [0.7777777777777778, \"#fb9f3a\"], [0.8888888888888888, \"#fdca26\"], [1.0, \"#f0f921\"]], \"type\": \"heatmap\"}], \"heatmapgl\": [{\"colorbar\": {\"outlinewidth\": 0, \"ticks\": \"\"}, \"colorscale\": [[0.0, \"#0d0887\"], [0.1111111111111111, \"#46039f\"], [0.2222222222222222, \"#7201a8\"], [0.3333333333333333, \"#9c179e\"], [0.4444444444444444, \"#bd3786\"], [0.5555555555555556, \"#d8576b\"], [0.6666666666666666, \"#ed7953\"], [0.7777777777777778, \"#fb9f3a\"], [0.8888888888888888, \"#fdca26\"], [1.0, \"#f0f921\"]], \"type\": \"heatmapgl\"}], \"histogram\": [{\"marker\": {\"colorbar\": {\"outlinewidth\": 0, \"ticks\": \"\"}}, \"type\": \"histogram\"}], \"histogram2d\": [{\"colorbar\": {\"outlinewidth\": 0, \"ticks\": \"\"}, \"colorscale\": [[0.0, \"#0d0887\"], [0.1111111111111111, \"#46039f\"], [0.2222222222222222, \"#7201a8\"], [0.3333333333333333, \"#9c179e\"], [0.4444444444444444, \"#bd3786\"], [0.5555555555555556, \"#d8576b\"], [0.6666666666666666, \"#ed7953\"], [0.7777777777777778, \"#fb9f3a\"], [0.8888888888888888, \"#fdca26\"], [1.0, \"#f0f921\"]], \"type\": \"histogram2d\"}], \"histogram2dcontour\": [{\"colorbar\": {\"outlinewidth\": 0, \"ticks\": \"\"}, \"colorscale\": [[0.0, \"#0d0887\"], [0.1111111111111111, \"#46039f\"], [0.2222222222222222, \"#7201a8\"], [0.3333333333333333, \"#9c179e\"], [0.4444444444444444, \"#bd3786\"], [0.5555555555555556, \"#d8576b\"], [0.6666666666666666, \"#ed7953\"], [0.7777777777777778, \"#fb9f3a\"], [0.8888888888888888, \"#fdca26\"], [1.0, \"#f0f921\"]], \"type\": \"histogram2dcontour\"}], \"mesh3d\": [{\"colorbar\": {\"outlinewidth\": 0, \"ticks\": \"\"}, \"type\": \"mesh3d\"}], \"parcoords\": [{\"line\": {\"colorbar\": {\"outlinewidth\": 0, \"ticks\": \"\"}}, \"type\": \"parcoords\"}], \"pie\": [{\"automargin\": true, \"type\": \"pie\"}], \"scatter\": [{\"marker\": {\"colorbar\": {\"outlinewidth\": 0, \"ticks\": \"\"}}, \"type\": \"scatter\"}], \"scatter3d\": [{\"line\": {\"colorbar\": {\"outlinewidth\": 0, \"ticks\": \"\"}}, \"marker\": {\"colorbar\": {\"outlinewidth\": 0, \"ticks\": \"\"}}, \"type\": \"scatter3d\"}], \"scattercarpet\": [{\"marker\": {\"colorbar\": {\"outlinewidth\": 0, \"ticks\": \"\"}}, \"type\": \"scattercarpet\"}], \"scattergeo\": [{\"marker\": {\"colorbar\": {\"outlinewidth\": 0, \"ticks\": \"\"}}, \"type\": \"scattergeo\"}], \"scattergl\": [{\"marker\": {\"colorbar\": {\"outlinewidth\": 0, \"ticks\": \"\"}}, \"type\": \"scattergl\"}], \"scattermapbox\": [{\"marker\": {\"colorbar\": {\"outlinewidth\": 0, \"ticks\": \"\"}}, \"type\": \"scattermapbox\"}], \"scatterpolar\": [{\"marker\": {\"colorbar\": {\"outlinewidth\": 0, \"ticks\": \"\"}}, \"type\": \"scatterpolar\"}], \"scatterpolargl\": [{\"marker\": {\"colorbar\": {\"outlinewidth\": 0, \"ticks\": \"\"}}, \"type\": \"scatterpolargl\"}], \"scatterternary\": [{\"marker\": {\"colorbar\": {\"outlinewidth\": 0, \"ticks\": \"\"}}, \"type\": \"scatterternary\"}], \"surface\": [{\"colorbar\": {\"outlinewidth\": 0, \"ticks\": \"\"}, \"colorscale\": [[0.0, \"#0d0887\"], [0.1111111111111111, \"#46039f\"], [0.2222222222222222, \"#7201a8\"], [0.3333333333333333, \"#9c179e\"], [0.4444444444444444, \"#bd3786\"], [0.5555555555555556, \"#d8576b\"], [0.6666666666666666, \"#ed7953\"], [0.7777777777777778, \"#fb9f3a\"], [0.8888888888888888, \"#fdca26\"], [1.0, \"#f0f921\"]], \"type\": \"surface\"}], \"table\": [{\"cells\": {\"fill\": {\"color\": \"#EBF0F8\"}, \"line\": {\"color\": \"white\"}}, \"header\": {\"fill\": {\"color\": \"#C8D4E3\"}, \"line\": {\"color\": \"white\"}}, \"type\": \"table\"}]}, \"layout\": {\"annotationdefaults\": {\"arrowcolor\": \"#2a3f5f\", \"arrowhead\": 0, \"arrowwidth\": 1}, \"coloraxis\": {\"colorbar\": {\"outlinewidth\": 0, \"ticks\": \"\"}}, \"colorscale\": {\"diverging\": [[0, \"#8e0152\"], [0.1, \"#c51b7d\"], [0.2, \"#de77ae\"], [0.3, \"#f1b6da\"], [0.4, \"#fde0ef\"], [0.5, \"#f7f7f7\"], [0.6, \"#e6f5d0\"], [0.7, \"#b8e186\"], [0.8, \"#7fbc41\"], [0.9, \"#4d9221\"], [1, \"#276419\"]], \"sequential\": [[0.0, \"#0d0887\"], [0.1111111111111111, \"#46039f\"], [0.2222222222222222, \"#7201a8\"], [0.3333333333333333, \"#9c179e\"], [0.4444444444444444, \"#bd3786\"], [0.5555555555555556, \"#d8576b\"], [0.6666666666666666, \"#ed7953\"], [0.7777777777777778, \"#fb9f3a\"], [0.8888888888888888, \"#fdca26\"], [1.0, \"#f0f921\"]], \"sequentialminus\": [[0.0, \"#0d0887\"], [0.1111111111111111, \"#46039f\"], [0.2222222222222222, \"#7201a8\"], [0.3333333333333333, \"#9c179e\"], [0.4444444444444444, \"#bd3786\"], [0.5555555555555556, \"#d8576b\"], [0.6666666666666666, \"#ed7953\"], [0.7777777777777778, \"#fb9f3a\"], [0.8888888888888888, \"#fdca26\"], [1.0, \"#f0f921\"]]}, \"colorway\": [\"#636efa\", \"#EF553B\", \"#00cc96\", \"#ab63fa\", \"#FFA15A\", \"#19d3f3\", \"#FF6692\", \"#B6E880\", \"#FF97FF\", \"#FECB52\"], \"font\": {\"color\": \"#2a3f5f\"}, \"geo\": {\"bgcolor\": \"white\", \"lakecolor\": \"white\", \"landcolor\": \"#E5ECF6\", \"showlakes\": true, \"showland\": true, \"subunitcolor\": \"white\"}, \"hoverlabel\": {\"align\": \"left\"}, \"hovermode\": \"closest\", \"mapbox\": {\"style\": \"light\"}, \"paper_bgcolor\": \"white\", \"plot_bgcolor\": \"#E5ECF6\", \"polar\": {\"angularaxis\": {\"gridcolor\": \"white\", \"linecolor\": \"white\", \"ticks\": \"\"}, \"bgcolor\": \"#E5ECF6\", \"radialaxis\": {\"gridcolor\": \"white\", \"linecolor\": \"white\", \"ticks\": \"\"}}, \"scene\": {\"xaxis\": {\"backgroundcolor\": \"#E5ECF6\", \"gridcolor\": \"white\", \"gridwidth\": 2, \"linecolor\": \"white\", \"showbackground\": true, \"ticks\": \"\", \"zerolinecolor\": \"white\"}, \"yaxis\": {\"backgroundcolor\": \"#E5ECF6\", \"gridcolor\": \"white\", \"gridwidth\": 2, \"linecolor\": \"white\", \"showbackground\": true, \"ticks\": \"\", \"zerolinecolor\": \"white\"}, \"zaxis\": {\"backgroundcolor\": \"#E5ECF6\", \"gridcolor\": \"white\", \"gridwidth\": 2, \"linecolor\": \"white\", \"showbackground\": true, \"ticks\": \"\", \"zerolinecolor\": \"white\"}}, \"shapedefaults\": {\"line\": {\"color\": \"#2a3f5f\"}}, \"ternary\": {\"aaxis\": {\"gridcolor\": \"white\", \"linecolor\": \"white\", \"ticks\": \"\"}, \"baxis\": {\"gridcolor\": \"white\", \"linecolor\": \"white\", \"ticks\": \"\"}, \"bgcolor\": \"#E5ECF6\", \"caxis\": {\"gridcolor\": \"white\", \"linecolor\": \"white\", \"ticks\": \"\"}}, \"title\": {\"x\": 0.05}, \"xaxis\": {\"automargin\": true, \"gridcolor\": \"white\", \"linecolor\": \"white\", \"ticks\": \"\", \"title\": {\"standoff\": 15}, \"zerolinecolor\": \"white\", \"zerolinewidth\": 2}, \"yaxis\": {\"automargin\": true, \"gridcolor\": \"white\", \"linecolor\": \"white\", \"ticks\": \"\", \"title\": {\"standoff\": 15}, \"zerolinecolor\": \"white\", \"zerolinewidth\": 2}}}, \"xaxis\": {\"anchor\": \"y\", \"domain\": [0.0, 1.0], \"title\": {\"text\": \"FECHA\"}}, \"yaxis\": {\"anchor\": \"x\", \"domain\": [0.0, 1.0], \"title\": {\"text\": \"CASOS\"}}},\n",
       "                        {\"responsive\": true}\n",
       "                    ).then(function(){\n",
       "                            \n",
       "var gd = document.getElementById('fbfce546-bac4-4453-a4c3-53f066be05c4');\n",
       "var x = new MutationObserver(function (mutations, observer) {{\n",
       "        var display = window.getComputedStyle(gd).display;\n",
       "        if (!display || display === 'none') {{\n",
       "            console.log([gd, 'removed!']);\n",
       "            Plotly.purge(gd);\n",
       "            observer.disconnect();\n",
       "        }}\n",
       "}});\n",
       "\n",
       "// Listen for the removal of the full notebook cells\n",
       "var notebookContainer = gd.closest('#notebook-container');\n",
       "if (notebookContainer) {{\n",
       "    x.observe(notebookContainer, {childList: true});\n",
       "}}\n",
       "\n",
       "// Listen for the clearing of the current output cell\n",
       "var outputEl = gd.closest('.output');\n",
       "if (outputEl) {{\n",
       "    x.observe(outputEl, {childList: true});\n",
       "}}\n",
       "\n",
       "                        })\n",
       "                };\n",
       "                });\n",
       "            </script>\n",
       "        </div>"
      ]
     },
     "metadata": {},
     "output_type": "display_data"
    }
   ],
   "source": [
    "fig = px.line(df_regiones[\"AN\"], x='FECHA', y='CASOS')\n",
    "fig.show()"
   ]
  },
  {
   "cell_type": "code",
   "execution_count": null,
   "metadata": {},
   "outputs": [],
   "source": [
    "py.iplot(dict(data=traces[0]))"
   ]
  },
  {
   "cell_type": "code",
   "execution_count": null,
   "metadata": {},
   "outputs": [],
   "source": [
    "py.iplot(fig, filename = \"Manually Set Range\")"
   ]
  },
  {
   "cell_type": "code",
   "execution_count": null,
   "metadata": {},
   "outputs": [],
   "source": []
  }
 ],
 "metadata": {
  "kernelspec": {
   "display_name": "Python 3",
   "language": "python",
   "name": "python3"
  },
  "language_info": {
   "codemirror_mode": {
    "name": "ipython",
    "version": 3
   },
   "file_extension": ".py",
   "mimetype": "text/x-python",
   "name": "python",
   "nbconvert_exporter": "python",
   "pygments_lexer": "ipython3",
   "version": "3.7.3"
  }
 },
 "nbformat": 4,
 "nbformat_minor": 4
}
