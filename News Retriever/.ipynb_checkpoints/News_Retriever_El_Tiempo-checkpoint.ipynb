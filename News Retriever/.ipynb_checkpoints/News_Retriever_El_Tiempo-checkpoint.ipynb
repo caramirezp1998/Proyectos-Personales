{
 "cells": [
  {
   "cell_type": "markdown",
   "metadata": {},
   "source": [
    "# Web Scraping news retriever\n",
    "This project will consist of making an app that can download 5 news from a given number of websites for later usage of their information in an abstractive summarization model and extractive summarization model."
   ]
  },
  {
   "cell_type": "code",
   "execution_count": 2,
   "metadata": {},
   "outputs": [],
   "source": [
    "#Imports\n",
    "import pandas as pd\n",
    "import requests as rq\n",
    "from bs4 import BeautifulSoup\n",
    "import re\n",
    "import json as js\n",
    "import datetime\n"
   ]
  },
  {
   "cell_type": "markdown",
   "metadata": {},
   "source": [
    "## First Step examine the news website\n",
    "In this step we will analyze \"El Tiempo\" a Colombian news website\n"
   ]
  },
  {
   "cell_type": "markdown",
   "metadata": {},
   "source": [
    "## This is the algorithm in charge of searching an specific parameter in the name of the link\n"
   ]
  },
  {
   "cell_type": "code",
   "execution_count": 122,
   "metadata": {},
   "outputs": [],
   "source": [
    "\n",
    "\n",
    "url = \"https://www.eltiempo.com/\"\n",
    "res = rq.get(url)\n",
    "html = res.text\n",
    "soup = BeautifulSoup(html)\n",
    "pretty_html=BeautifulSoup.prettify(soup)\n",
    "\n"
   ]
  },
  {
   "cell_type": "code",
   "execution_count": 3,
   "metadata": {},
   "outputs": [],
   "source": [
    "def content_of(url):\n",
    "    res = rq.get(url)\n",
    "    html = res.text\n",
    "    soup = BeautifulSoup(html)\n",
    "    headline= soup.find_all(\"h1\")[0].get_text()\n",
    "    p_tags=soup.find_all(\"p\")\n",
    "    contenido=[]\n",
    "    titulo=[]\n",
    "    for con in p_tags:\n",
    "        if con.get(\"class\") is not None:\n",
    "            if con.get(\"class\") == [\"contenido\"]:\n",
    "                contenido.append(con.get_text())\n",
    "    return (headline, contenido)\n",
    "\n",
    "def news_of(url):\n",
    "    \"\"\"This function extracts and return all the hyperlinks with the word of interest chosen of a certain link\"\"\"\n",
    "    res = rq.get(url)\n",
    "    html = res.text\n",
    "    soup = BeautifulSoup(html)\n",
    "    pretty_html=BeautifulSoup.prettify(soup)\n",
    "  \n",
    "    #Find all the hyperlinks\n",
    "    article_tags= soup.find_all(\"article\")\n",
    "    ref=[]\n",
    "    for i in range(0,len(article_tags)):\n",
    "        clase = article_tags[i].get(\"class\")\n",
    "        if clase is not None:\n",
    "            is_a_video = re.findall(\"video\", \"\".join(clase))\n",
    "            if is_a_video != [\"video\"]:\n",
    "                a_tags=article_tags[i].find_all(\"a\")\n",
    "                for lin in a_tags:\n",
    "                    if lin.get(\"class\") == ['title', 'page-link']:\n",
    "                        ref.append(lin.get(\"href\"))\n",
    "                \n",
    "    return ref\n",
    "\n"
   ]
  },
  {
   "cell_type": "code",
   "execution_count": 4,
   "metadata": {},
   "outputs": [],
   "source": [
    "def content_of_all_El_Tiempo(url):\n",
    "    refs= news_of(url)\n",
    "    news=[]\n",
    "    for link in refs:\n",
    "        if link.startswith(\"/\"):\n",
    "            titulo, contenido = content_of(url+link)\n",
    "            tot=\"\"\n",
    "            for text in contenido:\n",
    "                tot=tot+\" \"+text\n",
    "            categoria= re.findall('(?<=/)[a-z-]+(?=/)', link)[0]\n",
    "            temp_dic = {\"titulo\": titulo, \"contenido\": tot, \"link\": url+link,\"categoria\":categoria.replace(\"-\", \" \")}\n",
    "            news.append(temp_dic)\n",
    "        \n",
    "            \n",
    "    return news\n",
    "   "
   ]
  },
  {
   "cell_type": "code",
   "execution_count": 5,
   "metadata": {},
   "outputs": [],
   "source": [
    "\n",
    "def json_content(url):\n",
    "    news_El_Tiempo= content_of_all_El_Tiempo(url)\n",
    "    x=datetime.datetime.now().strftime(\"%Y-%m-%d\")\n",
    "    with open(f\"El_Tiempo/news_El_Tiempo_{x}.json\", \"w\") as f:\n",
    "        js.dump(news_El_Tiempo, f)"
   ]
  },
  {
   "cell_type": "code",
   "execution_count": 6,
   "metadata": {},
   "outputs": [],
   "source": [
    "url = \"https://www.eltiempo.com\"\n",
    "json_content(url)"
   ]
  },
  {
   "cell_type": "code",
   "execution_count": 11,
   "metadata": {},
   "outputs": [
    {
     "data": {
      "text/plain": [
       "(73, 4)"
      ]
     },
     "execution_count": 11,
     "metadata": {},
     "output_type": "execute_result"
    }
   ],
   "source": [
    "# x=datetime.datetime.now().strftime(\"%Y-%m-%d\")\n",
    "# with open(f\"El_Tiempo/news_El_Tiempo_{x}.json\", 'r') as d:\n",
    "#     info_dict =js.load(d)\n",
    "# df=pd.DataFrame(info_dict)\n",
    "# df.head()\n",
    "# df.shape"
   ]
  },
  {
   "cell_type": "code",
   "execution_count": 141,
   "metadata": {},
   "outputs": [
    {
     "data": {
      "text/plain": [
       "('Covid-19: Termina la primera cuarentena; así va la batalla',\n",
       " ['Al finalizar los 19 días de la primera cuarentena oficial decretada por el Gobierno Nacional, el país ajusta, al cierre de esta edición, 2.700 nuevos casos confirmados por el nuevo coronavirus, 100 muertes y 214 recuperados, con las infecciones concentradas en las grandes capitales.De manera específica, 755 casos han sido importados, 828 relacionados (que tuvieron contacto con pacientes infectados) y 1.126 se encuentran en estudio, lo que quiere decir claramente que la cadena de transmisión se perdió y el virus circula entre la comunidad.',\n",
       "  'Al revisar las cifras, se han infectado 1.365 hombres y 1.344 mujeres, y el 72,79 por ciento está en este momento en casa, 331 están hospitalizados, hay 92 en unidades de cuidados intensivos (representa el 3,4 por ciento) y una cifra que inquieta por su crecimiento exponencial: 100 fallecidos, que son el 3,69 por ciento del total de casos confirmados.Para la salubrista Elizabeth Beltrán Ortiz, estos números coinciden de manera significativa con los que presenta la pandemia en otros lugares del mundo; sin embargo, por fuera de las cifras absolutas empiezan a inquietar, si bien es cierto que el sistema de salud aún no ha sido exigido de gran número y su capacidad de respuesta ha permitido atender de manera integral a los afectados.Según Gabriel Riveros, exministro de Salud, los datos actuales no permiten de manera clara y tranquila decir que la curva de expansión de la epidemia se esté aplanando, por lo que se espera, ojalá este mismo domingo, que se tengan todos los números concernientes a este periodo para identificar de manera objetiva los beneficios del tiempo de cuarentena.',\n",
       "  'Lo que sí resalta Riveros es la necesidad urgente –ante la evidente demanda creciente– de proteger al máximo a los profesionales de la salud en virtud de las quejas que se han recibido.',\n",
       "  'El infectólogo Carlos Álvarez explica que el incremento que muestran las cifras se acopla a las medidas establecidas. “El porcentaje de mortalidad de los casos diagnosticados se ha mantenido por debajo del 5 por ciento, pero al considerarse que hay transmisión local, en la medida en que se hagan más pruebas aparecerán más casos en las próximas semanas, por lo que el efecto completo de la cuarentena se podrá ver a las dos semanas en el caso de los hospitalizados en UCI y hasta tres en mortalidad”, indica.',\n",
       "  '“Aplanar la curva no es que no haya casos, sino que ocurran en el mayor tiempo posible, lo que se pone en evidencia en la actual situación”, agrega.Para Luis Jorge Hernández, doctor en salud pública y profesor de la Universidad de los Andes, “aquí puede existir un subregistro en razón a que la confirmación solo se hace por laboratorio y en muchos casos hay dificultades para tomar muestras después de que las personas han fallecido. Esto podría explicar que los muertos estén por debajo de muchas simulaciones, a pesar de que el crecimiento es exponencial”. Insiste en que el Instituto Nacional de Salud debe modificar las definiciones de caso y que incluya personas con síntomas leves y los asintomáticos.EL TIEMPO'])"
      ]
     },
     "execution_count": 141,
     "metadata": {},
     "output_type": "execute_result"
    }
   ],
   "source": []
  },
  {
   "cell_type": "code",
   "execution_count": 1,
   "metadata": {},
   "outputs": [
    {
     "name": "stdout",
     "output_type": "stream",
     "text": [
      "C:\\Users\\usuario\\Documents\\Anaconda3\\python.exe\n"
     ]
    }
   ],
   "source": [
    "import os \n",
    "import sys\n",
    "print(sys.executable)"
   ]
  },
  {
   "cell_type": "code",
   "execution_count": null,
   "metadata": {},
   "outputs": [],
   "source": []
  }
 ],
 "metadata": {
  "kernelspec": {
   "display_name": "Python 3",
   "language": "python",
   "name": "python3"
  },
  "language_info": {
   "codemirror_mode": {
    "name": "ipython",
    "version": 3
   },
   "file_extension": ".py",
   "mimetype": "text/x-python",
   "name": "python",
   "nbconvert_exporter": "python",
   "pygments_lexer": "ipython3",
   "version": "3.7.3"
  }
 },
 "nbformat": 4,
 "nbformat_minor": 4
}
